{
 "cells": [
  {
   "cell_type": "code",
   "execution_count": 2,
   "metadata": {},
   "outputs": [],
   "source": [
    "import pandas as pd"
   ]
  },
  {
   "cell_type": "code",
   "execution_count": 3,
   "metadata": {},
   "outputs": [],
   "source": [
    "df = pd.read_csv(\"dataset4.csv\")"
   ]
  },
  {
   "cell_type": "code",
   "execution_count": 4,
   "metadata": {},
   "outputs": [],
   "source": [
    "import pandas as pd\n",
    "\n",
    "import matplotlib.pyplot as plt\n",
    "%matplotlib inline\n",
    "\n",
    "import seaborn as sns"
   ]
  },
  {
   "cell_type": "code",
   "execution_count": null,
   "metadata": {},
   "outputs": [],
   "source": [
    "def randSplit(dataSet, rate=0.9):\n",
    "    n = dataSet.shape[0]\n",
    "    m = int(n*rate)\n",
    "    train = dataSet.iloc[:m,:]\n",
    "    test = dataSet.iloc[m:,:]\n",
    "    test .index = range(test.shape[0]) \n",
    "    return train,test"
   ]
  },
  {
   "cell_type": "code",
   "execution_count": null,
   "metadata": {},
   "outputs": [],
   "source": [
    "import numpy as np\n",
    "def stayClass(train, test, k):\n",
    "    train=pd.DataFrame(train,dtype=np.float)\n",
    "    test=pd.DataFrame(test,dtype=np.float)\n",
    "    n = train. shape[1]-1   \n",
    "    m = test. shape[0]     \n",
    "    result = []                 \n",
    "    for i in range(m):\n",
    "        dist = list((((train.iloc[:, :n] - test.iloc[i, :n]) **2).sum(1))**.5)    \n",
    "        dist_1 = pd.DataFrame({'dist':dist, 'labels':(train.iloc[:, n])})   \n",
    "        dr = dist_1.sort_values(by = 'dist')[: k]   \n",
    "        re = dr.loc[:, 'labels'].value_counts()     \n",
    "        result.append(re.index[0])    \n",
    "    result = pd.Series(result)\n",
    "    res = test.copy()\n",
    "    res.loc[:, 'predict'] = result  \n",
    "    acc = (res.iloc[:,-1]==res.iloc[:,-2]).mean()    #\n",
    "    print('accuracy{}'.format(acc))\n",
    "    return acc, res"
   ]
  },
  {
   "cell_type": "code",
   "execution_count": 9,
   "metadata": {},
   "outputs": [],
   "source": [
    "def randSplit(dataSet, rate=0.9):\n",
    "    n = dataSet.shape[0]\n",
    "    m = int(n*rate)\n",
    "    X = dataSet.iloc[:m,:]\n",
    "    Y = dataSet.iloc[m:,:]\n",
    "    Y .index = range(Y.shape[0]) \n",
    "    return X,Y"
   ]
  },
  {
   "cell_type": "code",
   "execution_count": 10,
   "metadata": {},
   "outputs": [],
   "source": [
    "X, Y = randSplit(df)"
   ]
  },
  {
   "cell_type": "code",
   "execution_count": 11,
   "metadata": {},
   "outputs": [
    {
     "data": {
      "text/plain": [
       "(44999, 3)"
      ]
     },
     "execution_count": 11,
     "metadata": {},
     "output_type": "execute_result"
    }
   ],
   "source": [
    "X.shape"
   ]
  },
  {
   "cell_type": "code",
   "execution_count": null,
   "metadata": {},
   "outputs": [],
   "source": []
  }
 ],
 "metadata": {
  "kernelspec": {
   "display_name": "Python 3",
   "language": "python",
   "name": "python3"
  },
  "language_info": {
   "codemirror_mode": {
    "name": "ipython",
    "version": 3
   },
   "file_extension": ".py",
   "mimetype": "text/x-python",
   "name": "python",
   "nbconvert_exporter": "python",
   "pygments_lexer": "ipython3",
   "version": "3.8.3"
  }
 },
 "nbformat": 4,
 "nbformat_minor": 4
}
