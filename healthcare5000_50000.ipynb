{
 "cells": [
  {
   "cell_type": "code",
   "execution_count": 45,
   "metadata": {},
   "outputs": [],
   "source": [
    "import numpy as np\n",
    "import pandas as pd\n",
    "from sklearn.model_selection import train_test_split\n",
    "from sklearn.metrics import accuracy_score"
   ]
  },
  {
   "cell_type": "code",
   "execution_count": 120,
   "metadata": {},
   "outputs": [],
   "source": [
    "df = pd.read_csv('dataset5000.csv')"
   ]
  },
  {
   "cell_type": "code",
   "execution_count": 56,
   "metadata": {},
   "outputs": [
    {
     "name": "stdout",
     "output_type": "stream",
     "text": [
      "<class 'pandas.core.frame.DataFrame'>\n",
      "RangeIndex: 5000 entries, 0 to 4999\n",
      "Data columns (total 12 columns):\n",
      " #   Column                             Non-Null Count  Dtype  \n",
      "---  ------                             --------------  -----  \n",
      " 0   Hospital_region_code               5000 non-null   float64\n",
      " 1   Available Extra Rooms in Hospital  5000 non-null   float64\n",
      " 2   Department                         5000 non-null   float64\n",
      " 3   Ward_Type                          5000 non-null   float64\n",
      " 4   Bed Grade                          5000 non-null   float64\n",
      " 5   patientid                          5000 non-null   float64\n",
      " 6   Type of Admission                  5000 non-null   float64\n",
      " 7   Severity of Illness                5000 non-null   float64\n",
      " 8   Visitors with Patient              5000 non-null   float64\n",
      " 9   Age                                5000 non-null   float64\n",
      " 10  Admission_Deposit                  5000 non-null   float64\n",
      " 11  Stay                               5000 non-null   float64\n",
      "dtypes: float64(12)\n",
      "memory usage: 468.9 KB\n"
     ]
    }
   ],
   "source": [
    "df.info()"
   ]
  },
  {
   "cell_type": "code",
   "execution_count": 57,
   "metadata": {},
   "outputs": [
    {
     "data": {
      "text/plain": [
       "<bound method NDFrame.describe of       Hospital_region_code  Available Extra Rooms in Hospital  Department  \\\n",
       "0                      1.0                           0.125000        0.00   \n",
       "1                      1.0                           0.083333        0.00   \n",
       "2                      0.0                           0.083333        0.25   \n",
       "3                      0.5                           0.083333        0.00   \n",
       "4                      0.5                           0.083333        0.00   \n",
       "...                    ...                                ...         ...   \n",
       "4995                   0.5                           0.083333        0.75   \n",
       "4996                   0.5                           0.083333        0.75   \n",
       "4997                   0.5                           0.125000        0.75   \n",
       "4998                   0.5                           0.125000        0.75   \n",
       "4999                   1.0                           0.166667        0.25   \n",
       "\n",
       "      Ward_Type  Bed Grade  patientid  Type of Admission  Severity of Illness  \\\n",
       "0           0.5   0.333333   0.238530                0.0             1.000000   \n",
       "1           0.0   0.333333   0.238530                1.0             1.000000   \n",
       "2           0.0   0.333333   0.238530                1.0             1.000000   \n",
       "3           0.5   0.333333   0.238530                1.0             1.000000   \n",
       "4           0.0   0.333333   0.238530                1.0             1.000000   \n",
       "...         ...        ...        ...                ...                  ...   \n",
       "4995        0.0   0.333333   0.797497                0.0             0.000000   \n",
       "4996        1.0   1.000000   0.797497                1.0             0.000000   \n",
       "4997        0.0   0.333333   0.520015                0.0             0.333333   \n",
       "4998        0.5   0.333333   0.520015                1.0             0.333333   \n",
       "4999        0.5   1.000000   0.520015                1.0             0.333333   \n",
       "\n",
       "      Visitors with Patient       Age  Admission_Deposit      Stay  \n",
       "0                   0.06250  0.476190           0.307411  0.000000  \n",
       "1                   0.06250  0.476190           0.410474  0.380952  \n",
       "2                   0.06250  0.476190           0.291008  0.285714  \n",
       "3                   0.06250  0.476190           0.540711  0.380952  \n",
       "4                   0.06250  0.476190           0.371344  0.380952  \n",
       "...                     ...       ...                ...       ...  \n",
       "4995                0.06250  1.000000           0.305731  0.000000  \n",
       "4996                0.06250  1.000000           0.512549  0.285714  \n",
       "4997                0.12500  0.380952           0.236759  0.476190  \n",
       "4998                0.09375  0.380952           0.272727  0.190476  \n",
       "4999                0.06250  0.380952           0.446146  0.095238  \n",
       "\n",
       "[5000 rows x 12 columns]>"
      ]
     },
     "execution_count": 57,
     "metadata": {},
     "output_type": "execute_result"
    }
   ],
   "source": [
    "df.describe"
   ]
  },
  {
   "cell_type": "code",
   "execution_count": 60,
   "metadata": {},
   "outputs": [],
   "source": [
    "#切分训练集和测试集#\n",
    "def randSplit(dataSet, rate=0.9):\n",
    "    n = dataSet.shape[0]\n",
    "    m = int(n*rate)\n",
    "    train = dataSet.iloc[:m,:]\n",
    "    test = dataSet.iloc[m:,:]\n",
    "    test .index = range(test.shape[0]) \n",
    "    return train,test"
   ]
  },
  {
   "cell_type": "code",
   "execution_count": 61,
   "metadata": {},
   "outputs": [],
   "source": [
    "train, test = randSplit(df)"
   ]
  },
  {
   "cell_type": "code",
   "execution_count": 62,
   "metadata": {},
   "outputs": [
    {
     "data": {
      "text/plain": [
       "(4500, 12)"
      ]
     },
     "execution_count": 62,
     "metadata": {},
     "output_type": "execute_result"
    }
   ],
   "source": [
    "train.shape"
   ]
  },
  {
   "cell_type": "code",
   "execution_count": 63,
   "metadata": {},
   "outputs": [
    {
     "data": {
      "text/html": [
       "<div>\n",
       "<style scoped>\n",
       "    .dataframe tbody tr th:only-of-type {\n",
       "        vertical-align: middle;\n",
       "    }\n",
       "\n",
       "    .dataframe tbody tr th {\n",
       "        vertical-align: top;\n",
       "    }\n",
       "\n",
       "    .dataframe thead th {\n",
       "        text-align: right;\n",
       "    }\n",
       "</style>\n",
       "<table border=\"1\" class=\"dataframe\">\n",
       "  <thead>\n",
       "    <tr style=\"text-align: right;\">\n",
       "      <th></th>\n",
       "      <th>Hospital_region_code</th>\n",
       "      <th>Available Extra Rooms in Hospital</th>\n",
       "      <th>Department</th>\n",
       "      <th>Ward_Type</th>\n",
       "      <th>Bed Grade</th>\n",
       "      <th>patientid</th>\n",
       "      <th>Type of Admission</th>\n",
       "      <th>Severity of Illness</th>\n",
       "      <th>Visitors with Patient</th>\n",
       "      <th>Age</th>\n",
       "      <th>Admission_Deposit</th>\n",
       "      <th>Stay</th>\n",
       "    </tr>\n",
       "  </thead>\n",
       "  <tbody>\n",
       "    <tr>\n",
       "      <th>0</th>\n",
       "      <td>1.0</td>\n",
       "      <td>0.125000</td>\n",
       "      <td>0.00</td>\n",
       "      <td>0.5</td>\n",
       "      <td>0.333333</td>\n",
       "      <td>0.238530</td>\n",
       "      <td>0.0</td>\n",
       "      <td>1.000000</td>\n",
       "      <td>0.0625</td>\n",
       "      <td>0.476190</td>\n",
       "      <td>0.307411</td>\n",
       "      <td>0.000000</td>\n",
       "    </tr>\n",
       "    <tr>\n",
       "      <th>1</th>\n",
       "      <td>1.0</td>\n",
       "      <td>0.083333</td>\n",
       "      <td>0.00</td>\n",
       "      <td>0.0</td>\n",
       "      <td>0.333333</td>\n",
       "      <td>0.238530</td>\n",
       "      <td>1.0</td>\n",
       "      <td>1.000000</td>\n",
       "      <td>0.0625</td>\n",
       "      <td>0.476190</td>\n",
       "      <td>0.410474</td>\n",
       "      <td>0.380952</td>\n",
       "    </tr>\n",
       "    <tr>\n",
       "      <th>2</th>\n",
       "      <td>0.0</td>\n",
       "      <td>0.083333</td>\n",
       "      <td>0.25</td>\n",
       "      <td>0.0</td>\n",
       "      <td>0.333333</td>\n",
       "      <td>0.238530</td>\n",
       "      <td>1.0</td>\n",
       "      <td>1.000000</td>\n",
       "      <td>0.0625</td>\n",
       "      <td>0.476190</td>\n",
       "      <td>0.291008</td>\n",
       "      <td>0.285714</td>\n",
       "    </tr>\n",
       "    <tr>\n",
       "      <th>3</th>\n",
       "      <td>0.5</td>\n",
       "      <td>0.083333</td>\n",
       "      <td>0.00</td>\n",
       "      <td>0.5</td>\n",
       "      <td>0.333333</td>\n",
       "      <td>0.238530</td>\n",
       "      <td>1.0</td>\n",
       "      <td>1.000000</td>\n",
       "      <td>0.0625</td>\n",
       "      <td>0.476190</td>\n",
       "      <td>0.540711</td>\n",
       "      <td>0.380952</td>\n",
       "    </tr>\n",
       "    <tr>\n",
       "      <th>4</th>\n",
       "      <td>0.5</td>\n",
       "      <td>0.083333</td>\n",
       "      <td>0.00</td>\n",
       "      <td>0.0</td>\n",
       "      <td>0.333333</td>\n",
       "      <td>0.238530</td>\n",
       "      <td>1.0</td>\n",
       "      <td>1.000000</td>\n",
       "      <td>0.0625</td>\n",
       "      <td>0.476190</td>\n",
       "      <td>0.371344</td>\n",
       "      <td>0.380952</td>\n",
       "    </tr>\n",
       "    <tr>\n",
       "      <th>...</th>\n",
       "      <td>...</td>\n",
       "      <td>...</td>\n",
       "      <td>...</td>\n",
       "      <td>...</td>\n",
       "      <td>...</td>\n",
       "      <td>...</td>\n",
       "      <td>...</td>\n",
       "      <td>...</td>\n",
       "      <td>...</td>\n",
       "      <td>...</td>\n",
       "      <td>...</td>\n",
       "      <td>...</td>\n",
       "    </tr>\n",
       "    <tr>\n",
       "      <th>4495</th>\n",
       "      <td>0.0</td>\n",
       "      <td>0.083333</td>\n",
       "      <td>0.75</td>\n",
       "      <td>1.0</td>\n",
       "      <td>0.000000</td>\n",
       "      <td>0.057254</td>\n",
       "      <td>0.0</td>\n",
       "      <td>0.333333</td>\n",
       "      <td>0.0625</td>\n",
       "      <td>0.380952</td>\n",
       "      <td>0.284486</td>\n",
       "      <td>0.190476</td>\n",
       "    </tr>\n",
       "    <tr>\n",
       "      <th>4496</th>\n",
       "      <td>0.0</td>\n",
       "      <td>0.166667</td>\n",
       "      <td>0.25</td>\n",
       "      <td>1.0</td>\n",
       "      <td>0.333333</td>\n",
       "      <td>0.057254</td>\n",
       "      <td>1.0</td>\n",
       "      <td>0.333333</td>\n",
       "      <td>0.1250</td>\n",
       "      <td>0.380952</td>\n",
       "      <td>0.259684</td>\n",
       "      <td>0.476190</td>\n",
       "    </tr>\n",
       "    <tr>\n",
       "      <th>4497</th>\n",
       "      <td>0.0</td>\n",
       "      <td>0.083333</td>\n",
       "      <td>0.50</td>\n",
       "      <td>0.5</td>\n",
       "      <td>0.666667</td>\n",
       "      <td>0.057254</td>\n",
       "      <td>0.5</td>\n",
       "      <td>0.333333</td>\n",
       "      <td>0.1250</td>\n",
       "      <td>0.380952</td>\n",
       "      <td>0.294763</td>\n",
       "      <td>0.095238</td>\n",
       "    </tr>\n",
       "    <tr>\n",
       "      <th>4498</th>\n",
       "      <td>0.0</td>\n",
       "      <td>0.083333</td>\n",
       "      <td>0.75</td>\n",
       "      <td>0.5</td>\n",
       "      <td>0.000000</td>\n",
       "      <td>0.057254</td>\n",
       "      <td>1.0</td>\n",
       "      <td>0.333333</td>\n",
       "      <td>0.0625</td>\n",
       "      <td>0.380952</td>\n",
       "      <td>0.317688</td>\n",
       "      <td>0.000000</td>\n",
       "    </tr>\n",
       "    <tr>\n",
       "      <th>4499</th>\n",
       "      <td>0.0</td>\n",
       "      <td>0.083333</td>\n",
       "      <td>0.75</td>\n",
       "      <td>0.5</td>\n",
       "      <td>0.333333</td>\n",
       "      <td>0.057254</td>\n",
       "      <td>0.5</td>\n",
       "      <td>0.333333</td>\n",
       "      <td>0.0625</td>\n",
       "      <td>0.380952</td>\n",
       "      <td>0.272826</td>\n",
       "      <td>0.190476</td>\n",
       "    </tr>\n",
       "  </tbody>\n",
       "</table>\n",
       "<p>4500 rows × 12 columns</p>\n",
       "</div>"
      ],
      "text/plain": [
       "      Hospital_region_code  Available Extra Rooms in Hospital  Department  \\\n",
       "0                      1.0                           0.125000        0.00   \n",
       "1                      1.0                           0.083333        0.00   \n",
       "2                      0.0                           0.083333        0.25   \n",
       "3                      0.5                           0.083333        0.00   \n",
       "4                      0.5                           0.083333        0.00   \n",
       "...                    ...                                ...         ...   \n",
       "4495                   0.0                           0.083333        0.75   \n",
       "4496                   0.0                           0.166667        0.25   \n",
       "4497                   0.0                           0.083333        0.50   \n",
       "4498                   0.0                           0.083333        0.75   \n",
       "4499                   0.0                           0.083333        0.75   \n",
       "\n",
       "      Ward_Type  Bed Grade  patientid  Type of Admission  Severity of Illness  \\\n",
       "0           0.5   0.333333   0.238530                0.0             1.000000   \n",
       "1           0.0   0.333333   0.238530                1.0             1.000000   \n",
       "2           0.0   0.333333   0.238530                1.0             1.000000   \n",
       "3           0.5   0.333333   0.238530                1.0             1.000000   \n",
       "4           0.0   0.333333   0.238530                1.0             1.000000   \n",
       "...         ...        ...        ...                ...                  ...   \n",
       "4495        1.0   0.000000   0.057254                0.0             0.333333   \n",
       "4496        1.0   0.333333   0.057254                1.0             0.333333   \n",
       "4497        0.5   0.666667   0.057254                0.5             0.333333   \n",
       "4498        0.5   0.000000   0.057254                1.0             0.333333   \n",
       "4499        0.5   0.333333   0.057254                0.5             0.333333   \n",
       "\n",
       "      Visitors with Patient       Age  Admission_Deposit      Stay  \n",
       "0                    0.0625  0.476190           0.307411  0.000000  \n",
       "1                    0.0625  0.476190           0.410474  0.380952  \n",
       "2                    0.0625  0.476190           0.291008  0.285714  \n",
       "3                    0.0625  0.476190           0.540711  0.380952  \n",
       "4                    0.0625  0.476190           0.371344  0.380952  \n",
       "...                     ...       ...                ...       ...  \n",
       "4495                 0.0625  0.380952           0.284486  0.190476  \n",
       "4496                 0.1250  0.380952           0.259684  0.476190  \n",
       "4497                 0.1250  0.380952           0.294763  0.095238  \n",
       "4498                 0.0625  0.380952           0.317688  0.000000  \n",
       "4499                 0.0625  0.380952           0.272826  0.190476  \n",
       "\n",
       "[4500 rows x 12 columns]"
      ]
     },
     "execution_count": 63,
     "metadata": {},
     "output_type": "execute_result"
    }
   ],
   "source": [
    "train"
   ]
  },
  {
   "cell_type": "code",
   "execution_count": 64,
   "metadata": {},
   "outputs": [
    {
     "name": "stdout",
     "output_type": "stream",
     "text": [
      "<class 'pandas.core.frame.DataFrame'>\n",
      "RangeIndex: 4500 entries, 0 to 4499\n",
      "Data columns (total 12 columns):\n",
      " #   Column                             Non-Null Count  Dtype  \n",
      "---  ------                             --------------  -----  \n",
      " 0   Hospital_region_code               4500 non-null   float64\n",
      " 1   Available Extra Rooms in Hospital  4500 non-null   float64\n",
      " 2   Department                         4500 non-null   float64\n",
      " 3   Ward_Type                          4500 non-null   float64\n",
      " 4   Bed Grade                          4500 non-null   float64\n",
      " 5   patientid                          4500 non-null   float64\n",
      " 6   Type of Admission                  4500 non-null   float64\n",
      " 7   Severity of Illness                4500 non-null   float64\n",
      " 8   Visitors with Patient              4500 non-null   float64\n",
      " 9   Age                                4500 non-null   float64\n",
      " 10  Admission_Deposit                  4500 non-null   float64\n",
      " 11  Stay                               4500 non-null   float64\n",
      "dtypes: float64(12)\n",
      "memory usage: 422.0 KB\n"
     ]
    }
   ],
   "source": [
    "train.info()"
   ]
  },
  {
   "cell_type": "code",
   "execution_count": 103,
   "metadata": {},
   "outputs": [],
   "source": [
    "import numpy as np\n",
    "def stayClass(train, test, k):\n",
    "    n = train. shape[1]-1   #训练集的特征个数\n",
    "    m = test. shape[0]     #测试集的样本数\n",
    "    result = []                 #放置预测结果\n",
    "    \n",
    "    for i in range(m):\n",
    "        train=pd.DataFrame(train,dtype=np.float)\n",
    "        test=pd.DataFrame(test,dtype=np.float)\n",
    "        dist = np.linalg.norm(train.iloc[:, :n]-test.iloc[i, :n],ord=1)\n",
    "        dist_1 = pd.DataFrame({'dist':dist, 'labels':(train.iloc[:, n])})   #追加标签\n",
    "        dr = dist_1.sort_values(by = 'dist')[: k]   #距离排序\n",
    "        re = dr.loc[:, 'labels'].value_counts()     #统计\n",
    "        result.append(re.index[0])    \n",
    "    result = pd.Series(result)\n",
    "    res = test.copy()\n",
    "    res.loc[:, 'predict'] = result  #追加一列预测结果\n",
    "    acc = (res.iloc[:,-1]==res.iloc[:,-2]).mean()    #计算预测的准确率\n",
    "    print('accuracy{}'.format(acc))\n",
    "    return acc, res"
   ]
  },
  {
   "cell_type": "code",
   "execution_count": 123,
   "metadata": {},
   "outputs": [
    {
     "name": "stdout",
     "output_type": "stream",
     "text": [
      "accuracy0.2762\n"
     ]
    }
   ],
   "source": [
    "acc, df_stay = stayClass(train, test, 30)\n",
    "df_stay.head()\n",
    "train=pd.DataFrame(train,dtype=np.float)\n",
    "test=pd.DataFrame(test,dtype=np.float)"
   ]
  },
  {
   "cell_type": "code",
   "execution_count": 109,
   "metadata": {},
   "outputs": [
    {
     "name": "stdout",
     "output_type": "stream",
     "text": [
      "accuracy0.066\n",
      "accuracy0.034\n",
      "accuracy0.314\n",
      "accuracy0.034\n",
      "accuracy0.034\n",
      "accuracy0.034\n",
      "accuracy0.034\n",
      "accuracy0.034\n",
      "accuracy0.034\n",
      "accuracy0.232\n",
      "accuracy0.232\n",
      "accuracy0.232\n",
      "accuracy0.232\n",
      "accuracy0.232\n",
      "accuracy0.232\n",
      "accuracy0.314\n",
      "accuracy0.314\n",
      "accuracy0.314\n",
      "accuracy0.314\n",
      "3\n",
      "0.314\n"
     ]
    },
    {
     "data": {
      "image/png": "[encoded data removed]",
      "text/plain": [
       "<Figure size 432x288 with 1 Axes>"
      ]
     },
     "metadata": {
      "needs_background": "light"
     },
     "output_type": "display_data"
    }
   ],
   "source": [
    "import matplotlib.pyplot as plt\n",
    "#绘制学习曲线\n",
    "score = []\n",
    "krange = range(1,20)\n",
    "\n",
    "for i in krange:\n",
    "    acc,re = stayClass(train,test,i)\n",
    "    score.append(acc)\n",
    "plt.plot(krange,score);\n",
    "bestK = krange[score.index(max(score))]\n",
    "print(bestK)\n",
    "print(max(score))"
   ]
  },
  {
   "cell_type": "code",
   "execution_count": 110,
   "metadata": {},
   "outputs": [],
   "source": [
    "df = pd.read_csv('datasetone.csv')"
   ]
  },
  {
   "cell_type": "code",
   "execution_count": 111,
   "metadata": {},
   "outputs": [],
   "source": [
    "#切分训练集和测试集#\n",
    "def randSplit(dataSet, rate=0.9):\n",
    "    n = dataSet.shape[0]\n",
    "    m = int(n*rate)\n",
    "    train = dataSet.iloc[:m,:]\n",
    "    test = dataSet.iloc[m:,:]\n",
    "    test .index = range(test.shape[0]) \n",
    "    return train,test"
   ]
  },
  {
   "cell_type": "code",
   "execution_count": 113,
   "metadata": {},
   "outputs": [],
   "source": [
    "train, test = randSplit(df)"
   ]
  },
  {
   "cell_type": "code",
   "execution_count": 114,
   "metadata": {},
   "outputs": [
    {
     "data": {
      "text/plain": [
       "(44998, 12)"
      ]
     },
     "execution_count": 114,
     "metadata": {},
     "output_type": "execute_result"
    }
   ],
   "source": [
    "train.shape"
   ]
  },
  {
   "cell_type": "code",
   "execution_count": 115,
   "metadata": {},
   "outputs": [
    {
     "name": "stdout",
     "output_type": "stream",
     "text": [
      "<class 'pandas.core.frame.DataFrame'>\n",
      "RangeIndex: 44998 entries, 0 to 44997\n",
      "Data columns (total 12 columns):\n",
      " #   Column                             Non-Null Count  Dtype  \n",
      "---  ------                             --------------  -----  \n",
      " 0   Hospital_region_code               44998 non-null  float64\n",
      " 1   Available Extra Rooms in Hospital  44998 non-null  float64\n",
      " 2   Department                         44998 non-null  float64\n",
      " 3   Ward_Type                          44998 non-null  float64\n",
      " 4   Bed Grade                          44998 non-null  float64\n",
      " 5   patientid                          44998 non-null  float64\n",
      " 6   Type of Admission                  44998 non-null  float64\n",
      " 7   Severity of Illness                44998 non-null  float64\n",
      " 8   Visitors with Patient              44998 non-null  float64\n",
      " 9   Age                                44998 non-null  float64\n",
      " 10  Admission_Deposit                  44998 non-null  float64\n",
      " 11  Stay                               44998 non-null  int64  \n",
      "dtypes: float64(11), int64(1)\n",
      "memory usage: 4.1 MB\n"
     ]
    }
   ],
   "source": [
    "train.info()"
   ]
  },
  {
   "cell_type": "markdown",
   "metadata": {},
   "source": [
    "曼哈顿距离"
   ]
  },
  {
   "cell_type": "code",
   "execution_count": 116,
   "metadata": {},
   "outputs": [],
   "source": [
    "import numpy as np\n",
    "train=pd.DataFrame(train,dtype=np.float)\n",
    "test=pd.DataFrame(test,dtype=np.float)\n",
    "def stayClass(train, test, k):\n",
    "    n = train. shape[1]-1   #训练集的特征个数\n",
    "    m = test. shape[0]     #测试集的样本数\n",
    "    result = []                 #放置预测结果\n",
    "    \n",
    "    for i in range(m):\n",
    "        train=pd.DataFrame(train,dtype=np.float)\n",
    "        test=pd.DataFrame(test,dtype=np.float)\n",
    "        dist = np.linalg.norm(train.iloc[:, :n]-test.iloc[i, :n],ord=1)\n",
    "        dist_1 = pd.DataFrame({'dist':dist, 'labels':(train.iloc[:, n])})   #追加标签\n",
    "        dr = dist_1.sort_values(by = 'dist')[: k]   #距离排序\n",
    "        re = dr.loc[:, 'labels'].value_counts()     #统计\n",
    "        result.append(re.index[0])    \n",
    "    result = pd.Series(result)\n",
    "    res = test.copy()\n",
    "    res.loc[:, 'predict'] = result  #追加一列预测结果\n",
    "    acc = (res.iloc[:,-1]==res.iloc[:,-2]).mean()    #计算预测的准确率\n",
    "    print('accuracy{}'.format(acc))\n",
    "    return acc, res"
   ]
  },
  {
   "cell_type": "code",
   "execution_count": 122,
   "metadata": {},
   "outputs": [
    {
     "name": "stdout",
     "output_type": "stream",
     "text": [
      "accuracy0.2762\n"
     ]
    },
    {
     "data": {
      "text/html": [
       "<div>\n",
       "<style scoped>\n",
       "    .dataframe tbody tr th:only-of-type {\n",
       "        vertical-align: middle;\n",
       "    }\n",
       "\n",
       "    .dataframe tbody tr th {\n",
       "        vertical-align: top;\n",
       "    }\n",
       "\n",
       "    .dataframe thead th {\n",
       "        text-align: right;\n",
       "    }\n",
       "</style>\n",
       "<table border=\"1\" class=\"dataframe\">\n",
       "  <thead>\n",
       "    <tr style=\"text-align: right;\">\n",
       "      <th></th>\n",
       "      <th>Hospital_region_code</th>\n",
       "      <th>Available Extra Rooms in Hospital</th>\n",
       "      <th>Department</th>\n",
       "      <th>Ward_Type</th>\n",
       "      <th>Bed Grade</th>\n",
       "      <th>patientid</th>\n",
       "      <th>Type of Admission</th>\n",
       "      <th>Severity of Illness</th>\n",
       "      <th>Visitors with Patient</th>\n",
       "      <th>Age</th>\n",
       "      <th>Admission_Deposit</th>\n",
       "      <th>Stay</th>\n",
       "      <th>predict</th>\n",
       "    </tr>\n",
       "  </thead>\n",
       "  <tbody>\n",
       "    <tr>\n",
       "      <th>0</th>\n",
       "      <td>0.5</td>\n",
       "      <td>0.166667</td>\n",
       "      <td>0.75</td>\n",
       "      <td>0.5</td>\n",
       "      <td>0.666667</td>\n",
       "      <td>0.036886</td>\n",
       "      <td>1.0</td>\n",
       "      <td>0.333333</td>\n",
       "      <td>0.06250</td>\n",
       "      <td>0.47619</td>\n",
       "      <td>0.425395</td>\n",
       "      <td>15.0</td>\n",
       "      <td>25.0</td>\n",
       "    </tr>\n",
       "    <tr>\n",
       "      <th>1</th>\n",
       "      <td>0.0</td>\n",
       "      <td>0.125000</td>\n",
       "      <td>0.75</td>\n",
       "      <td>1.0</td>\n",
       "      <td>0.333333</td>\n",
       "      <td>0.036886</td>\n",
       "      <td>1.0</td>\n",
       "      <td>0.333333</td>\n",
       "      <td>0.12500</td>\n",
       "      <td>0.47619</td>\n",
       "      <td>0.316601</td>\n",
       "      <td>35.0</td>\n",
       "      <td>25.0</td>\n",
       "    </tr>\n",
       "    <tr>\n",
       "      <th>2</th>\n",
       "      <td>0.5</td>\n",
       "      <td>0.125000</td>\n",
       "      <td>0.75</td>\n",
       "      <td>0.5</td>\n",
       "      <td>0.333333</td>\n",
       "      <td>0.036886</td>\n",
       "      <td>0.0</td>\n",
       "      <td>0.333333</td>\n",
       "      <td>0.09375</td>\n",
       "      <td>0.47619</td>\n",
       "      <td>0.534190</td>\n",
       "      <td>35.0</td>\n",
       "      <td>25.0</td>\n",
       "    </tr>\n",
       "    <tr>\n",
       "      <th>3</th>\n",
       "      <td>1.0</td>\n",
       "      <td>0.083333</td>\n",
       "      <td>0.25</td>\n",
       "      <td>0.5</td>\n",
       "      <td>0.666667</td>\n",
       "      <td>0.036886</td>\n",
       "      <td>1.0</td>\n",
       "      <td>0.333333</td>\n",
       "      <td>0.06250</td>\n",
       "      <td>0.47619</td>\n",
       "      <td>0.312945</td>\n",
       "      <td>45.0</td>\n",
       "      <td>25.0</td>\n",
       "    </tr>\n",
       "    <tr>\n",
       "      <th>4</th>\n",
       "      <td>0.5</td>\n",
       "      <td>0.166667</td>\n",
       "      <td>0.75</td>\n",
       "      <td>0.5</td>\n",
       "      <td>0.333333</td>\n",
       "      <td>0.036886</td>\n",
       "      <td>0.0</td>\n",
       "      <td>0.333333</td>\n",
       "      <td>0.09375</td>\n",
       "      <td>0.47619</td>\n",
       "      <td>0.354447</td>\n",
       "      <td>35.0</td>\n",
       "      <td>25.0</td>\n",
       "    </tr>\n",
       "  </tbody>\n",
       "</table>\n",
       "</div>"
      ],
      "text/plain": [
       "   Hospital_region_code  Available Extra Rooms in Hospital  Department  \\\n",
       "0                   0.5                           0.166667        0.75   \n",
       "1                   0.0                           0.125000        0.75   \n",
       "2                   0.5                           0.125000        0.75   \n",
       "3                   1.0                           0.083333        0.25   \n",
       "4                   0.5                           0.166667        0.75   \n",
       "\n",
       "   Ward_Type  Bed Grade  patientid  Type of Admission  Severity of Illness  \\\n",
       "0        0.5   0.666667   0.036886                1.0             0.333333   \n",
       "1        1.0   0.333333   0.036886                1.0             0.333333   \n",
       "2        0.5   0.333333   0.036886                0.0             0.333333   \n",
       "3        0.5   0.666667   0.036886                1.0             0.333333   \n",
       "4        0.5   0.333333   0.036886                0.0             0.333333   \n",
       "\n",
       "   Visitors with Patient      Age  Admission_Deposit  Stay  predict  \n",
       "0                0.06250  0.47619           0.425395  15.0     25.0  \n",
       "1                0.12500  0.47619           0.316601  35.0     25.0  \n",
       "2                0.09375  0.47619           0.534190  35.0     25.0  \n",
       "3                0.06250  0.47619           0.312945  45.0     25.0  \n",
       "4                0.09375  0.47619           0.354447  35.0     25.0  "
      ]
     },
     "execution_count": 122,
     "metadata": {},
     "output_type": "execute_result"
    }
   ],
   "source": [
    "acc, df_stay = stayClass(train, test, 40)\n",
    "df_stay.head()"
   ]
  },
  {
   "cell_type": "code",
   "execution_count": 119,
   "metadata": {},
   "outputs": [
    {
     "name": "stdout",
     "output_type": "stream",
     "text": [
      "accuracy0.0646\n",
      "accuracy0.0338\n",
      "accuracy0.26\n",
      "accuracy0.033\n",
      "accuracy0.0338\n",
      "accuracy0.0338\n",
      "accuracy0.0338\n",
      "accuracy0.26\n",
      "accuracy0.26\n",
      "accuracy0.168\n",
      "accuracy0.26\n",
      "accuracy0.26\n",
      "accuracy0.2762\n",
      "accuracy0.168\n",
      "accuracy0.168\n",
      "accuracy0.168\n",
      "accuracy0.168\n",
      "accuracy0.168\n",
      "accuracy0.168\n",
      "13\n",
      "0.2762\n"
     ]
    },
    {
     "data": {
      "image/png": "[encoded data removed]",
      "text/plain": [
       "<Figure size 432x288 with 1 Axes>"
      ]
     },
     "metadata": {
      "needs_background": "light"
     },
     "output_type": "display_data"
    }
   ],
   "source": [
    "import matplotlib.pyplot as plt\n",
    "#绘制学习曲线\n",
    "score = []\n",
    "krange = range(1,20)\n",
    "\n",
    "for i in krange:\n",
    "    acc,re = stayClass(train,test,i)\n",
    "    score.append(acc)\n",
    "plt.plot(krange,score);\n",
    "bestK = krange[score.index(max(score))]\n",
    "print(bestK)\n",
    "print(max(score))"
   ]
  },
  {
   "cell_type": "code",
   "execution_count": 128,
   "metadata": {},
   "outputs": [],
   "source": [
    "import numpy as np\n",
    "def stayClass(train, test, k):\n",
    "    train=pd.DataFrame(train,dtype=np.float)\n",
    "    test=pd.DataFrame(test,dtype=np.float)\n",
    "    n = train. shape[1]-1   #训练集的特征个数\n",
    "    m = test. shape[0]     #测试集的样本数\n",
    "    result = []                 #放置预测结果\n",
    "    for i in range(m):\n",
    "        dist = list((((train.iloc[:, :n] - test.iloc[i, :n]) **2).sum(1))**.5)    #距离计算\n",
    "        dist_1 = pd.DataFrame({'dist':dist, 'labels':(train.iloc[:, n])})   #追加标签\n",
    "        dr = dist_1.sort_values(by = 'dist')[: k]   #距离排序\n",
    "        re = dr.loc[:, 'labels'].value_counts()     #统计\n",
    "        result.append(re.index[0])    \n",
    "    result = pd.Series(result)\n",
    "    res = test.copy()\n",
    "    res.loc[:, 'predict'] = result  #追加一列预测结果\n",
    "    acc = (res.iloc[:,-1]==res.iloc[:,-2]).mean()    #计算预测的准确率\n",
    "    print('accuracy{}'.format(acc))\n",
    "    return acc, res"
   ]
  },
  {
   "cell_type": "code",
   "execution_count": 129,
   "metadata": {},
   "outputs": [
    {
     "name": "stdout",
     "output_type": "stream",
     "text": [
      "accuracy0.2384\n",
      "accuracy0.2404\n",
      "accuracy0.2526\n",
      "accuracy0.2612\n",
      "accuracy0.2812\n",
      "accuracy0.2854\n",
      "accuracy0.285\n",
      "accuracy0.2924\n",
      "accuracy0.292\n",
      "accuracy0.2892\n",
      "accuracy0.2984\n",
      "accuracy0.299\n",
      "accuracy0.2988\n",
      "accuracy0.3006\n",
      "accuracy0.3038\n",
      "accuracy0.3014\n",
      "accuracy0.3056\n",
      "accuracy0.3044\n",
      "accuracy0.3042\n",
      "accuracy0.3048\n",
      "accuracy0.3046\n",
      "accuracy0.3058\n",
      "accuracy0.3024\n",
      "accuracy0.3046\n",
      "accuracy0.3064\n",
      "accuracy0.306\n",
      "accuracy0.306\n",
      "accuracy0.3072\n",
      "accuracy0.3086\n",
      "29\n",
      "0.3086\n"
     ]
    },
    {
     "data": {
      "image/png": "[encoded data removed]",
      "text/plain": [
       "<Figure size 432x288 with 1 Axes>"
      ]
     },
     "metadata": {
      "needs_background": "light"
     },
     "output_type": "display_data"
    }
   ],
   "source": [
    "import matplotlib.pyplot as plt\n",
    "#绘制学习曲线\n",
    "score = []\n",
    "krange = range(1,30)\n",
    "\n",
    "for i in krange:\n",
    "    acc,re = stayClass(train,test,i)\n",
    "    score.append(acc)\n",
    "plt.plot(krange,score);\n",
    "bestK = krange[score.index(max(score))]\n",
    "print(bestK)\n",
    "print(max(score))"
   ]
  },
  {
   "cell_type": "markdown",
   "metadata": {},
   "source": [
    "# features are chosen according to correlation3"
   ]
  },
  {
   "cell_type": "code",
   "execution_count": null,
   "metadata": {},
   "outputs": [],
   "source": [
    "def randSplit(dataSet, rate=0.9):\n",
    "    n = dataSet.shape[0]\n",
    "    m = int(n*rate)\n",
    "    train = dataSet.iloc[:m,:]\n",
    "    test = dataSet.iloc[m:,:]\n",
    "    test .index = range(test.shape[0]) \n",
    "    return train,test"
   ]
  },
  {
   "cell_type": "code",
   "execution_count": null,
   "metadata": {},
   "outputs": [],
   "source": [
    "def randSplit(dataSet, rate=0.9):\n",
    "    n = dataSet.shape[0]\n",
    "    m = int(n*rate)\n",
    "    train = dataSet.iloc[:m,:]\n",
    "    test = dataSet.iloc[m:,:]\n",
    "    test .index = range(test.shape[0]) \n",
    "    return train,test"
   ]
  },
  {
   "cell_type": "code",
   "execution_count": null,
   "metadata": {},
   "outputs": [],
   "source": [
    "rain, test = randSplit(df)"
   ]
  },
  {
   "cell_type": "code",
   "execution_count": null,
   "metadata": {},
   "outputs": [],
   "source": [
    "train.shape"
   ]
  },
  {
   "cell_type": "code",
   "execution_count": null,
   "metadata": {},
   "outputs": [],
   "source": [
    "train"
   ]
  },
  {
   "cell_type": "code",
   "execution_count": null,
   "metadata": {},
   "outputs": [],
   "source": [
    "test.shape"
   ]
  },
  {
   "cell_type": "code",
   "execution_count": null,
   "metadata": {},
   "outputs": [],
   "source": [
    "test"
   ]
  },
  {
   "cell_type": "code",
   "execution_count": null,
   "metadata": {},
   "outputs": [],
   "source": [
    "import numpy as np\n",
    "def stayClass(train, test, k):\n",
    "    train=pd.DataFrame(train,dtype=np.float)\n",
    "    test=pd.DataFrame(test,dtype=np.float)\n",
    "    n = train. shape[1]-1   \n",
    "    m = test. shape[0]     \n",
    "    result = []                \n",
    "    for i in range(m):\n",
    "        dist = list((((train.iloc[:, :n] - test.iloc[i, :n]) **2).sum(1))**.5)    \n",
    "        dist_1 = pd.DataFrame({'dist':dist, 'labels':(train.iloc[:, n])})   \n",
    "        dr = dist_1.sort_values(by = 'dist')[: k] \n",
    "        re = dr.loc[:, 'labels'].value_counts()  \n",
    "        result.append(re.index[0])    \n",
    "    result = pd.Series(result)\n",
    "    res = test.copy()\n",
    "    res.loc[:, 'predict'] = result \n",
    "    acc = (res.iloc[:,-1]==res.iloc[:,-2]).mean()   \n",
    "    print('accuracy{}'.format(acc))\n",
    "    return acc, res"
   ]
  },
  {
   "cell_type": "code",
   "execution_count": null,
   "metadata": {},
   "outputs": [],
   "source": [
    "acc, df_stay = stayClass(train, test, 50)\n",
    "df_stay.head()"
   ]
  },
  {
   "cell_type": "code",
   "execution_count": null,
   "metadata": {},
   "outputs": [],
   "source": [
    "import matplotlib.pyplot as plt\n",
    "score = []\n",
    "krange = range(1,30)\n",
    "\n",
    "for i in krange:\n",
    "    acc,re = stayClass(train,test,i)\n",
    "    score.append(acc)\n",
    "plt.plot(krange,score);\n",
    "bestK = krange[score.index(max(score))]\n",
    "print(bestK)\n",
    "print(max(score))"
   ]
  },
  {
   "cell_type": "code",
   "execution_count": null,
   "metadata": {},
   "outputs": [],
   "source": [
    "import matplotlib.pyplot as plt\n",
    "score = []\n",
    "krange = range(1,30)\n",
    "\n",
    "for i in krange:\n",
    "    acc,re = stayClass(train,test,i)\n",
    "    score.append(acc)\n",
    "plt.plot(krange,score);\n",
    "bestK = krange[score.index(max(score))]\n",
    "print(bestK)\n",
    "print(max(score))"
   ]
  },
  {
   "cell_type": "code",
   "execution_count": null,
   "metadata": {},
   "outputs": [],
   "source": [
    "df = pd.read_csv('datasetfull.csv')"
   ]
  },
  {
   "cell_type": "code",
   "execution_count": null,
   "metadata": {},
   "outputs": [],
   "source": [
    "df.info()"
   ]
  },
  {
   "cell_type": "code",
   "execution_count": null,
   "metadata": {},
   "outputs": [],
   "source": [
    "df.shape"
   ]
  },
  {
   "cell_type": "code",
   "execution_count": null,
   "metadata": {},
   "outputs": [],
   "source": [
    "def randSplit(dataSet, rate=0.9):\n",
    "    n = dataSet.shape[0]\n",
    "    m = int(n*rate)\n",
    "    train = dataSet.iloc[:m,:]\n",
    "    test = dataSet.iloc[m:,:]\n",
    "    test .index = range(test.shape[0]) \n",
    "    return train,test"
   ]
  },
  {
   "cell_type": "code",
   "execution_count": null,
   "metadata": {},
   "outputs": [],
   "source": [
    "train, test = randSplit(df)"
   ]
  },
  {
   "cell_type": "code",
   "execution_count": null,
   "metadata": {},
   "outputs": [],
   "source": [
    "train.shape"
   ]
  },
  {
   "cell_type": "code",
   "execution_count": null,
   "metadata": {},
   "outputs": [],
   "source": [
    "test.shape"
   ]
  },
  {
   "cell_type": "code",
   "execution_count": null,
   "metadata": {},
   "outputs": [],
   "source": [
    "import numpy as np\n",
    "def stayClass(train, test, k):\n",
    "    train=pd.DataFrame(train,dtype=np.float)\n",
    "    test=pd.DataFrame(test,dtype=np.float)\n",
    "    n = train. shape[1]-1   \n",
    "    m = test. shape[0]     \n",
    "    result = []                 \n",
    "    for i in range(m)\n",
    "        dist = list((((train.iloc[:, :n] - test.iloc[i, :n]) **2).sum(1))**.5)   \n",
    "        dist_1 = pd.DataFrame({'dist':dist, 'labels':(train.iloc[:, n])})   \n",
    "        dr = dist_1.sort_values(by = 'dist')[: k] \n",
    "        re = dr.loc[:, 'labels'].value_counts()    \n",
    "        result.append(re.index[0])    \n",
    "    result = pd.Series(result)\n",
    "    res = test.copy()\n",
    "    res.loc[:, 'predict'] = result\n",
    "    acc = (res.iloc[:,-1]==res.iloc[:,-2]).mean()   \n",
    "    print('accuracy{}'.format(acc))\n",
    "    return acc, res"
   ]
  },
  {
   "cell_type": "code",
   "execution_count": null,
   "metadata": {},
   "outputs": [],
   "source": [
    "acc, df_stay = stayClass(train, test, 40)\n",
    "df_stay.head()"
   ]
  },
  {
   "cell_type": "code",
   "execution_count": null,
   "metadata": {},
   "outputs": [],
   "source": [
    "import matplotlib.pyplot as plt\n",
    "score = []\n",
    "krange = range(21,45)\n",
    "\n",
    "for i in krange:\n",
    "    acc,re = stayClass(train,test,i)\n",
    "    score.append(acc)\n",
    "plt.plot(krange,score);\n",
    "bestK = krange[score.index(max(score))]\n",
    "print(bestK)\n",
    "print(max(score))"
   ]
  },
  {
   "cell_type": "code",
   "execution_count": null,
   "metadata": {},
   "outputs": [],
   "source": [
    "import matplotlib.pyplot as plt\n",
    "score = []\n",
    "krange = range(1,45)\n",
    "\n",
    "for i in krange:\n",
    "    acc,re = stayClass(train,test,i)\n",
    "    score.append(acc)\n",
    "plt.plot(krange,score);\n",
    "bestK = krange[score.index(max(score))]\n",
    "print(bestK)\n",
    "print(max(score))"
   ]
  },
  {
   "cell_type": "code",
   "execution_count": null,
   "metadata": {},
   "outputs": [],
   "source": []
  }
 ],
 "metadata": {
  "kernelspec": {
   "display_name": "Python 3",
   "language": "python",
   "name": "python3"
  },
  "language_info": {
   "codemirror_mode": {
    "name": "ipython",
    "version": 3
   },
   "file_extension": ".py",
   "mimetype": "text/x-python",
   "name": "python",
   "nbconvert_exporter": "python",
   "pygments_lexer": "ipython3",
   "version": "3.8.3"
  }
 },
 "nbformat": 4,
 "nbformat_minor": 4
}
