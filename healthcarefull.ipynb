{
 "cells": [
  {
   "cell_type": "code",
   "execution_count": 1,
   "metadata": {},
   "outputs": [],
   "source": [
    "import numpy as np\n",
    "import pandas as pd\n",
    "from sklearn.model_selection import train_test_split\n",
    "from sklearn.metrics import accuracy_score"
   ]
  },
  {
   "cell_type": "code",
   "execution_count": 2,
   "metadata": {},
   "outputs": [],
   "source": [
    "df = pd.read_csv('datasetfull.csv')"
   ]
  },
  {
   "cell_type": "code",
   "execution_count": 3,
   "metadata": {},
   "outputs": [
    {
     "name": "stdout",
     "output_type": "stream",
     "text": [
      "<class 'pandas.core.frame.DataFrame'>\n",
      "RangeIndex: 49999 entries, 0 to 49998\n",
      "Data columns (total 17 columns):\n",
      " #   Column                             Non-Null Count  Dtype  \n",
      "---  ------                             --------------  -----  \n",
      " 0   Hospital_code                      49999 non-null  float64\n",
      " 1   Hospital_type_code                 49999 non-null  float64\n",
      " 2   Hospital_region_code               49999 non-null  float64\n",
      " 3   City_Code_Hospital                 49999 non-null  float64\n",
      " 4   Available Extra Rooms in Hospital  49999 non-null  float64\n",
      " 5   Department                         49999 non-null  float64\n",
      " 6   Ward_Type                          49999 non-null  float64\n",
      " 7   Ward_Facility_Code                 49999 non-null  float64\n",
      " 8   Bed Grade                          49999 non-null  float64\n",
      " 9   patientid                          49999 non-null  float64\n",
      " 10  City_Code_Patient                  49999 non-null  float64\n",
      " 11  Type of Admission                  49999 non-null  float64\n",
      " 12  Severity of Illness                49999 non-null  float64\n",
      " 13  Visitors with Patient              49999 non-null  float64\n",
      " 14  Age                                49999 non-null  float64\n",
      " 15  Admission_Deposit                  49999 non-null  float64\n",
      " 16  Stay                               49999 non-null  float64\n",
      "dtypes: float64(17)\n",
      "memory usage: 6.5 MB\n"
     ]
    }
   ],
   "source": [
    "df.info()"
   ]
  },
  {
   "cell_type": "code",
   "execution_count": 4,
   "metadata": {},
   "outputs": [
    {
     "data": {
      "text/plain": [
       "(49999, 17)"
      ]
     },
     "execution_count": 4,
     "metadata": {},
     "output_type": "execute_result"
    }
   ],
   "source": [
    "df.shape"
   ]
  },
  {
   "cell_type": "code",
   "execution_count": 5,
   "metadata": {},
   "outputs": [],
   "source": [
    "#切分训练集和测试集#\n",
    "def randSplit(dataSet, rate=0.9):\n",
    "    n = dataSet.shape[0]\n",
    "    m = int(n*rate)\n",
    "    train = dataSet.iloc[:m,:]\n",
    "    test = dataSet.iloc[m:,:]\n",
    "    test .index = range(test.shape[0]) \n",
    "    return train,test"
   ]
  },
  {
   "cell_type": "code",
   "execution_count": 6,
   "metadata": {},
   "outputs": [],
   "source": [
    "train, test = randSplit(df)"
   ]
  },
  {
   "cell_type": "code",
   "execution_count": 7,
   "metadata": {},
   "outputs": [
    {
     "data": {
      "text/plain": [
       "(44999, 17)"
      ]
     },
     "execution_count": 7,
     "metadata": {},
     "output_type": "execute_result"
    }
   ],
   "source": [
    "train.shape"
   ]
  },
  {
   "cell_type": "code",
   "execution_count": 8,
   "metadata": {},
   "outputs": [
    {
     "data": {
      "text/plain": [
       "(5000, 17)"
      ]
     },
     "execution_count": 8,
     "metadata": {},
     "output_type": "execute_result"
    }
   ],
   "source": [
    "test.shape"
   ]
  },
  {
   "cell_type": "code",
   "execution_count": 9,
   "metadata": {},
   "outputs": [],
   "source": [
    "import numpy as np\n",
    "def stayClass(train, test, k):\n",
    "    train=pd.DataFrame(train,dtype=np.float)\n",
    "    test=pd.DataFrame(test,dtype=np.float)\n",
    "    n = train. shape[1]-1   #训练集的特征个数\n",
    "    m = test. shape[0]     #测试集的样本数\n",
    "    result = []                 #放置预测结果\n",
    "    for i in range(m):\n",
    "        dist = list((((train.iloc[:, :n] - test.iloc[i, :n]) **2).sum(1))**.5)    #距离计算\n",
    "        dist_1 = pd.DataFrame({'dist':dist, 'labels':(train.iloc[:, n])})   #追加标签\n",
    "        dr = dist_1.sort_values(by = 'dist')[: k]   #距离排序\n",
    "        re = dr.loc[:, 'labels'].value_counts()     #统计\n",
    "        result.append(re.index[0])    \n",
    "    result = pd.Series(result)\n",
    "    res = test.copy()\n",
    "    res.loc[:, 'predict'] = result  #追加一列预测结果\n",
    "    acc = (res.iloc[:,-1]==res.iloc[:,-2]).mean()    #计算预测的准确率\n",
    "    print('accuracy{}'.format(acc))\n",
    "    return acc, res"
   ]
  },
  {
   "cell_type": "code",
   "execution_count": 15,
   "metadata": {},
   "outputs": [
    {
     "name": "stdout",
     "output_type": "stream",
     "text": [
      "accuracy0.3166\n"
     ]
    },
    {
     "data": {
      "text/html": [
       "<div>\n",
       "<style scoped>\n",
       "    .dataframe tbody tr th:only-of-type {\n",
       "        vertical-align: middle;\n",
       "    }\n",
       "\n",
       "    .dataframe tbody tr th {\n",
       "        vertical-align: top;\n",
       "    }\n",
       "\n",
       "    .dataframe thead th {\n",
       "        text-align: right;\n",
       "    }\n",
       "</style>\n",
       "<table border=\"1\" class=\"dataframe\">\n",
       "  <thead>\n",
       "    <tr style=\"text-align: right;\">\n",
       "      <th></th>\n",
       "      <th>Hospital_code</th>\n",
       "      <th>Hospital_type_code</th>\n",
       "      <th>Hospital_region_code</th>\n",
       "      <th>City_Code_Hospital</th>\n",
       "      <th>Available Extra Rooms in Hospital</th>\n",
       "      <th>Department</th>\n",
       "      <th>Ward_Type</th>\n",
       "      <th>Ward_Facility_Code</th>\n",
       "      <th>Bed Grade</th>\n",
       "      <th>patientid</th>\n",
       "      <th>City_Code_Patient</th>\n",
       "      <th>Type of Admission</th>\n",
       "      <th>Severity of Illness</th>\n",
       "      <th>Visitors with Patient</th>\n",
       "      <th>Age</th>\n",
       "      <th>Admission_Deposit</th>\n",
       "      <th>Stay</th>\n",
       "      <th>predict</th>\n",
       "    </tr>\n",
       "  </thead>\n",
       "  <tbody>\n",
       "    <tr>\n",
       "      <th>0</th>\n",
       "      <td>0.161290</td>\n",
       "      <td>0.000</td>\n",
       "      <td>0.0</td>\n",
       "      <td>0.416667</td>\n",
       "      <td>0.125000</td>\n",
       "      <td>0.75</td>\n",
       "      <td>0.4</td>\n",
       "      <td>1.0</td>\n",
       "      <td>0.333333</td>\n",
       "      <td>0.036886</td>\n",
       "      <td>0.036886</td>\n",
       "      <td>1.0</td>\n",
       "      <td>0.333333</td>\n",
       "      <td>0.12500</td>\n",
       "      <td>0.47619</td>\n",
       "      <td>0.316601</td>\n",
       "      <td>0.285714</td>\n",
       "      <td>0.190476</td>\n",
       "    </tr>\n",
       "    <tr>\n",
       "      <th>1</th>\n",
       "      <td>0.806452</td>\n",
       "      <td>0.125</td>\n",
       "      <td>0.5</td>\n",
       "      <td>0.083333</td>\n",
       "      <td>0.125000</td>\n",
       "      <td>0.75</td>\n",
       "      <td>1.0</td>\n",
       "      <td>0.6</td>\n",
       "      <td>0.333333</td>\n",
       "      <td>0.036886</td>\n",
       "      <td>0.036886</td>\n",
       "      <td>0.0</td>\n",
       "      <td>0.333333</td>\n",
       "      <td>0.09375</td>\n",
       "      <td>0.47619</td>\n",
       "      <td>0.534190</td>\n",
       "      <td>0.285714</td>\n",
       "      <td>0.190476</td>\n",
       "    </tr>\n",
       "    <tr>\n",
       "      <th>2</th>\n",
       "      <td>0.225806</td>\n",
       "      <td>0.250</td>\n",
       "      <td>1.0</td>\n",
       "      <td>0.166667</td>\n",
       "      <td>0.083333</td>\n",
       "      <td>0.25</td>\n",
       "      <td>1.0</td>\n",
       "      <td>1.0</td>\n",
       "      <td>0.666667</td>\n",
       "      <td>0.036886</td>\n",
       "      <td>0.036886</td>\n",
       "      <td>1.0</td>\n",
       "      <td>0.333333</td>\n",
       "      <td>0.06250</td>\n",
       "      <td>0.47619</td>\n",
       "      <td>0.312945</td>\n",
       "      <td>0.380952</td>\n",
       "      <td>0.285714</td>\n",
       "    </tr>\n",
       "    <tr>\n",
       "      <th>3</th>\n",
       "      <td>0.838710</td>\n",
       "      <td>0.000</td>\n",
       "      <td>0.5</td>\n",
       "      <td>0.500000</td>\n",
       "      <td>0.166667</td>\n",
       "      <td>0.75</td>\n",
       "      <td>1.0</td>\n",
       "      <td>0.4</td>\n",
       "      <td>0.333333</td>\n",
       "      <td>0.036886</td>\n",
       "      <td>0.036886</td>\n",
       "      <td>0.0</td>\n",
       "      <td>0.333333</td>\n",
       "      <td>0.09375</td>\n",
       "      <td>0.47619</td>\n",
       "      <td>0.354447</td>\n",
       "      <td>0.285714</td>\n",
       "      <td>0.190476</td>\n",
       "    </tr>\n",
       "    <tr>\n",
       "      <th>4</th>\n",
       "      <td>0.967742</td>\n",
       "      <td>0.250</td>\n",
       "      <td>1.0</td>\n",
       "      <td>0.166667</td>\n",
       "      <td>0.083333</td>\n",
       "      <td>0.75</td>\n",
       "      <td>1.0</td>\n",
       "      <td>0.0</td>\n",
       "      <td>0.333333</td>\n",
       "      <td>0.448364</td>\n",
       "      <td>0.448364</td>\n",
       "      <td>1.0</td>\n",
       "      <td>0.333333</td>\n",
       "      <td>0.06250</td>\n",
       "      <td>0.47619</td>\n",
       "      <td>0.462451</td>\n",
       "      <td>0.190476</td>\n",
       "      <td>0.190476</td>\n",
       "    </tr>\n",
       "  </tbody>\n",
       "</table>\n",
       "</div>"
      ],
      "text/plain": [
       "   Hospital_code  Hospital_type_code  Hospital_region_code  \\\n",
       "0       0.161290               0.000                   0.0   \n",
       "1       0.806452               0.125                   0.5   \n",
       "2       0.225806               0.250                   1.0   \n",
       "3       0.838710               0.000                   0.5   \n",
       "4       0.967742               0.250                   1.0   \n",
       "\n",
       "   City_Code_Hospital  Available Extra Rooms in Hospital  Department  \\\n",
       "0            0.416667                           0.125000        0.75   \n",
       "1            0.083333                           0.125000        0.75   \n",
       "2            0.166667                           0.083333        0.25   \n",
       "3            0.500000                           0.166667        0.75   \n",
       "4            0.166667                           0.083333        0.75   \n",
       "\n",
       "   Ward_Type  Ward_Facility_Code  Bed Grade  patientid  City_Code_Patient  \\\n",
       "0        0.4                 1.0   0.333333   0.036886           0.036886   \n",
       "1        1.0                 0.6   0.333333   0.036886           0.036886   \n",
       "2        1.0                 1.0   0.666667   0.036886           0.036886   \n",
       "3        1.0                 0.4   0.333333   0.036886           0.036886   \n",
       "4        1.0                 0.0   0.333333   0.448364           0.448364   \n",
       "\n",
       "   Type of Admission  Severity of Illness  Visitors with Patient      Age  \\\n",
       "0                1.0             0.333333                0.12500  0.47619   \n",
       "1                0.0             0.333333                0.09375  0.47619   \n",
       "2                1.0             0.333333                0.06250  0.47619   \n",
       "3                0.0             0.333333                0.09375  0.47619   \n",
       "4                1.0             0.333333                0.06250  0.47619   \n",
       "\n",
       "   Admission_Deposit      Stay   predict  \n",
       "0           0.316601  0.285714  0.190476  \n",
       "1           0.534190  0.285714  0.190476  \n",
       "2           0.312945  0.380952  0.285714  \n",
       "3           0.354447  0.285714  0.190476  \n",
       "4           0.462451  0.190476  0.190476  "
      ]
     },
     "execution_count": 15,
     "metadata": {},
     "output_type": "execute_result"
    }
   ],
   "source": [
    "acc, df_stay = stayClass(train, test, 40)\n",
    "df_stay.head()"
   ]
  },
  {
   "cell_type": "code",
   "execution_count": 18,
   "metadata": {},
   "outputs": [
    {
     "name": "stdout",
     "output_type": "stream",
     "text": [
      "accuracy0.3058\n",
      "accuracy0.3116\n",
      "accuracy0.3104\n",
      "accuracy0.3088\n",
      "accuracy0.3094\n",
      "accuracy0.3062\n",
      "accuracy0.3038\n",
      "accuracy0.305\n",
      "accuracy0.3048\n",
      "accuracy0.3064\n",
      "accuracy0.3066\n",
      "accuracy0.3058\n",
      "accuracy0.3078\n",
      "accuracy0.3086\n",
      "accuracy0.3106\n",
      "accuracy0.3104\n",
      "accuracy0.3102\n",
      "accuracy0.311\n",
      "accuracy0.3144\n",
      "accuracy0.3166\n",
      "accuracy0.3124\n",
      "accuracy0.3108\n",
      "accuracy0.3116\n",
      "accuracy0.3122\n",
      "40\n",
      "0.3166\n"
     ]
    },
    {
     "data": {
      "image/png": "[encoded data removed]",
      "text/plain": [
       "<Figure size 432x288 with 1 Axes>"
      ]
     },
     "metadata": {
      "needs_background": "light"
     },
     "output_type": "display_data"
    }
   ],
   "source": [
    "import matplotlib.pyplot as plt\n",
    "#绘制学习曲线\n",
    "score = []\n",
    "krange = range(21,45)\n",
    "\n",
    "for i in krange:\n",
    "    acc,re = stayClass(train,test,i)\n",
    "    score.append(acc)\n",
    "plt.plot(krange,score);\n",
    "bestK = krange[score.index(max(score))]\n",
    "print(bestK)\n",
    "print(max(score))"
   ]
  },
  {
   "cell_type": "code",
   "execution_count": 10,
   "metadata": {},
   "outputs": [
    {
     "name": "stdout",
     "output_type": "stream",
     "text": [
      "accuracy0.2426\n",
      "accuracy0.2528\n",
      "accuracy0.2608\n",
      "accuracy0.269\n",
      "accuracy0.27\n",
      "accuracy0.277\n",
      "accuracy0.275\n",
      "accuracy0.2814\n",
      "accuracy0.286\n",
      "accuracy0.2894\n",
      "accuracy0.2908\n",
      "accuracy0.2908\n",
      "accuracy0.2912\n",
      "accuracy0.295\n",
      "accuracy0.2988\n",
      "accuracy0.3036\n",
      "accuracy0.2982\n",
      "accuracy0.3022\n",
      "accuracy0.3074\n",
      "accuracy0.312\n",
      "accuracy0.3058\n",
      "accuracy0.3116\n",
      "accuracy0.3104\n",
      "accuracy0.3088\n",
      "accuracy0.3094\n",
      "accuracy0.3062\n",
      "accuracy0.3038\n",
      "accuracy0.305\n",
      "accuracy0.3048\n",
      "accuracy0.3064\n",
      "accuracy0.3066\n",
      "accuracy0.3058\n",
      "accuracy0.3078\n",
      "accuracy0.3086\n",
      "accuracy0.3106\n",
      "accuracy0.3104\n",
      "accuracy0.3102\n",
      "accuracy0.311\n",
      "accuracy0.3144\n",
      "accuracy0.3166\n",
      "accuracy0.3124\n",
      "accuracy0.3108\n",
      "accuracy0.3116\n",
      "accuracy0.3122\n",
      "40\n",
      "0.3166\n"
     ]
    },
    {
     "data": {
      "image/png": "[encoded data removed]",
      "text/plain": [
       "<Figure size 432x288 with 1 Axes>"
      ]
     },
     "metadata": {
      "needs_background": "light"
     },
     "output_type": "display_data"
    }
   ],
   "source": [
    "import matplotlib.pyplot as plt\n",
    "#绘制学习曲线\n",
    "score = []\n",
    "krange = range(1,45)\n",
    "\n",
    "for i in krange:\n",
    "    acc,re = stayClass(train,test,i)\n",
    "    score.append(acc)\n",
    "plt.plot(krange,score);\n",
    "bestK = krange[score.index(max(score))]\n",
    "print(bestK)\n",
    "print(max(score))"
   ]
  },
  {
   "cell_type": "code",
   "execution_count": null,
   "metadata": {},
   "outputs": [],
   "source": []
  }
 ],
 "metadata": {
  "kernelspec": {
   "display_name": "Python 3",
   "language": "python",
   "name": "python3"
  },
  "language_info": {
   "codemirror_mode": {
    "name": "ipython",
    "version": 3
   },
   "file_extension": ".py",
   "mimetype": "text/x-python",
   "name": "python",
   "nbconvert_exporter": "python",
   "pygments_lexer": "ipython3",
   "version": "3.8.3"
  }
 },
 "nbformat": 4,
 "nbformat_minor": 4
}
