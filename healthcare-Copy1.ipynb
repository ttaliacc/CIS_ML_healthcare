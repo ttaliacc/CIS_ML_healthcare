{
 "cells": [
  {
   "cell_type": "code",
   "execution_count": 1,
   "metadata": {
    "scrolled": true
   },
   "outputs": [
    {
     "name": "stdout",
     "output_type": "stream",
     "text": [
      "Looking in indexes: https://pypi.tuna.tsinghua.edu.cn/simple\n",
      "Requirement already satisfied: numpy in /opt/anaconda3/lib/python3.8/site-packages (1.18.5)\n",
      "Requirement already satisfied: pandas in /opt/anaconda3/lib/python3.8/site-packages (1.0.5)\n",
      "Requirement already satisfied: matplotlib in /opt/anaconda3/lib/python3.8/site-packages (3.2.2)\n",
      "Requirement already satisfied: seaborn in /opt/anaconda3/lib/python3.8/site-packages (0.10.1)\n",
      "Requirement already satisfied: wheel in /opt/anaconda3/lib/python3.8/site-packages (0.34.2)\n",
      "Requirement already satisfied: pandas_profiling in /opt/anaconda3/lib/python3.8/site-packages (2.9.0)\n",
      "Requirement already satisfied: jupyter in /opt/anaconda3/lib/python3.8/site-packages (1.0.0)\n",
      "Requirement already satisfied: notebook in /opt/anaconda3/lib/python3.8/site-packages (6.0.3)\n",
      "Requirement already satisfied: pytz>=2017.2 in /opt/anaconda3/lib/python3.8/site-packages (from pandas) (2020.1)\n",
      "Requirement already satisfied: python-dateutil>=2.6.1 in /opt/anaconda3/lib/python3.8/site-packages (from pandas) (2.8.1)\n",
      "Requirement already satisfied: kiwisolver>=1.0.1 in /opt/anaconda3/lib/python3.8/site-packages (from matplotlib) (1.2.0)\n",
      "Requirement already satisfied: pyparsing!=2.0.4,!=2.1.2,!=2.1.6,>=2.0.1 in /opt/anaconda3/lib/python3.8/site-packages (from matplotlib) (2.4.7)\n",
      "Requirement already satisfied: cycler>=0.10 in /opt/anaconda3/lib/python3.8/site-packages (from matplotlib) (0.10.0)\n",
      "Requirement already satisfied: scipy>=1.0.1 in /opt/anaconda3/lib/python3.8/site-packages (from seaborn) (1.5.0)\n",
      "Requirement already satisfied: attrs>=19.3.0 in /opt/anaconda3/lib/python3.8/site-packages (from pandas_profiling) (19.3.0)\n",
      "Requirement already satisfied: tqdm>=4.43.0 in /opt/anaconda3/lib/python3.8/site-packages (from pandas_profiling) (4.47.0)\n",
      "Requirement already satisfied: htmlmin>=0.1.12 in /opt/anaconda3/lib/python3.8/site-packages (from pandas_profiling) (0.1.12)\n",
      "Requirement already satisfied: visions[type_image_path]==0.5.0 in /opt/anaconda3/lib/python3.8/site-packages (from pandas_profiling) (0.5.0)\n",
      "Requirement already satisfied: phik>=0.9.10 in /opt/anaconda3/lib/python3.8/site-packages (from pandas_profiling) (0.10.0)\n",
      "Requirement already satisfied: joblib in /opt/anaconda3/lib/python3.8/site-packages (from pandas_profiling) (0.16.0)\n",
      "Requirement already satisfied: missingno>=0.4.2 in /opt/anaconda3/lib/python3.8/site-packages (from pandas_profiling) (0.4.2)\n",
      "Requirement already satisfied: requests>=2.23.0 in /opt/anaconda3/lib/python3.8/site-packages (from pandas_profiling) (2.24.0)\n",
      "Requirement already satisfied: tangled-up-in-unicode>=0.0.6 in /opt/anaconda3/lib/python3.8/site-packages (from pandas_profiling) (0.0.6)\n",
      "Requirement already satisfied: ipywidgets>=7.5.1 in /opt/anaconda3/lib/python3.8/site-packages (from pandas_profiling) (7.5.1)\n",
      "Requirement already satisfied: jinja2>=2.11.1 in /opt/anaconda3/lib/python3.8/site-packages (from pandas_profiling) (2.11.2)\n",
      "Requirement already satisfied: confuse>=1.0.0 in /opt/anaconda3/lib/python3.8/site-packages (from pandas_profiling) (1.3.0)\n",
      "Requirement already satisfied: ipykernel in /opt/anaconda3/lib/python3.8/site-packages (from jupyter) (5.3.2)\n",
      "Requirement already satisfied: jupyter-console in /opt/anaconda3/lib/python3.8/site-packages (from jupyter) (6.1.0)\n",
      "Requirement already satisfied: qtconsole in /opt/anaconda3/lib/python3.8/site-packages (from jupyter) (4.7.5)\n",
      "Requirement already satisfied: nbconvert in /opt/anaconda3/lib/python3.8/site-packages (from jupyter) (5.6.1)\n",
      "Requirement already satisfied: jupyter-client>=5.3.4 in /opt/anaconda3/lib/python3.8/site-packages (from notebook) (6.1.6)\n",
      "Requirement already satisfied: jupyter-core>=4.6.1 in /opt/anaconda3/lib/python3.8/site-packages (from notebook) (4.6.3)\n",
      "Requirement already satisfied: pyzmq>=17 in /opt/anaconda3/lib/python3.8/site-packages (from notebook) (19.0.1)\n",
      "Requirement already satisfied: prometheus-client in /opt/anaconda3/lib/python3.8/site-packages (from notebook) (0.8.0)\n",
      "Requirement already satisfied: traitlets>=4.2.1 in /opt/anaconda3/lib/python3.8/site-packages (from notebook) (4.3.3)\n",
      "Requirement already satisfied: tornado>=5.0 in /opt/anaconda3/lib/python3.8/site-packages (from notebook) (6.0.4)\n",
      "Requirement already satisfied: ipython-genutils in /opt/anaconda3/lib/python3.8/site-packages (from notebook) (0.2.0)\n",
      "Requirement already satisfied: nbformat in /opt/anaconda3/lib/python3.8/site-packages (from notebook) (5.0.7)\n",
      "Requirement already satisfied: Send2Trash in /opt/anaconda3/lib/python3.8/site-packages (from notebook) (1.5.0)\n",
      "Requirement already satisfied: terminado>=0.8.1 in /opt/anaconda3/lib/python3.8/site-packages (from notebook) (0.8.3)\n",
      "Requirement already satisfied: six>=1.5 in /opt/anaconda3/lib/python3.8/site-packages (from python-dateutil>=2.6.1->pandas) (1.15.0)\n",
      "Requirement already satisfied: networkx>=2.4 in /opt/anaconda3/lib/python3.8/site-packages (from visions[type_image_path]==0.5.0->pandas_profiling) (2.4)\n",
      "Requirement already satisfied: imagehash; extra == \"type_image_path\" in /opt/anaconda3/lib/python3.8/site-packages (from visions[type_image_path]==0.5.0->pandas_profiling) (4.1.0)\n",
      "Requirement already satisfied: Pillow; extra == \"type_image_path\" in /opt/anaconda3/lib/python3.8/site-packages (from visions[type_image_path]==0.5.0->pandas_profiling) (7.2.0)\n",
      "Requirement already satisfied: numba>=0.38.1 in /opt/anaconda3/lib/python3.8/site-packages (from phik>=0.9.10->pandas_profiling) (0.50.1)\n",
      "Requirement already satisfied: certifi>=2017.4.17 in /opt/anaconda3/lib/python3.8/site-packages (from requests>=2.23.0->pandas_profiling) (2020.6.20)\n",
      "Requirement already satisfied: chardet<4,>=3.0.2 in /opt/anaconda3/lib/python3.8/site-packages (from requests>=2.23.0->pandas_profiling) (3.0.4)\n",
      "Requirement already satisfied: idna<3,>=2.5 in /opt/anaconda3/lib/python3.8/site-packages (from requests>=2.23.0->pandas_profiling) (2.10)\n",
      "Requirement already satisfied: urllib3!=1.25.0,!=1.25.1,<1.26,>=1.21.1 in /opt/anaconda3/lib/python3.8/site-packages (from requests>=2.23.0->pandas_profiling) (1.25.9)\n",
      "Requirement already satisfied: widgetsnbextension~=3.5.0 in /opt/anaconda3/lib/python3.8/site-packages (from ipywidgets>=7.5.1->pandas_profiling) (3.5.1)\n",
      "Requirement already satisfied: ipython>=4.0.0; python_version >= \"3.3\" in /opt/anaconda3/lib/python3.8/site-packages (from ipywidgets>=7.5.1->pandas_profiling) (7.16.1)\n",
      "Requirement already satisfied: MarkupSafe>=0.23 in /opt/anaconda3/lib/python3.8/site-packages (from jinja2>=2.11.1->pandas_profiling) (1.1.1)\n",
      "Requirement already satisfied: pyyaml in /opt/anaconda3/lib/python3.8/site-packages (from confuse>=1.0.0->pandas_profiling) (5.3.1)\n",
      "Requirement already satisfied: appnope; platform_system == \"Darwin\" in /opt/anaconda3/lib/python3.8/site-packages (from ipykernel->jupyter) (0.1.0)\n",
      "Requirement already satisfied: prompt-toolkit!=3.0.0,!=3.0.1,<3.1.0,>=2.0.0 in /opt/anaconda3/lib/python3.8/site-packages (from jupyter-console->jupyter) (3.0.5)\n",
      "Requirement already satisfied: pygments in /opt/anaconda3/lib/python3.8/site-packages (from jupyter-console->jupyter) (2.6.1)\n",
      "Requirement already satisfied: qtpy in /opt/anaconda3/lib/python3.8/site-packages (from qtconsole->jupyter) (1.9.0)\n",
      "Requirement already satisfied: entrypoints>=0.2.2 in /opt/anaconda3/lib/python3.8/site-packages (from nbconvert->jupyter) (0.3)\n",
      "Requirement already satisfied: testpath in /opt/anaconda3/lib/python3.8/site-packages (from nbconvert->jupyter) (0.4.4)\n",
      "Requirement already satisfied: pandocfilters>=1.4.1 in /opt/anaconda3/lib/python3.8/site-packages (from nbconvert->jupyter) (1.4.2)\n",
      "Requirement already satisfied: mistune<2,>=0.8.1 in /opt/anaconda3/lib/python3.8/site-packages (from nbconvert->jupyter) (0.8.4)\n",
      "Requirement already satisfied: bleach in /opt/anaconda3/lib/python3.8/site-packages (from nbconvert->jupyter) (3.1.5)\n",
      "Requirement already satisfied: defusedxml in /opt/anaconda3/lib/python3.8/site-packages (from nbconvert->jupyter) (0.6.0)\n",
      "Requirement already satisfied: decorator in /opt/anaconda3/lib/python3.8/site-packages (from traitlets>=4.2.1->notebook) (4.4.2)\n",
      "Requirement already satisfied: jsonschema!=2.5.0,>=2.4 in /opt/anaconda3/lib/python3.8/site-packages (from nbformat->notebook) (3.2.0)\n",
      "Requirement already satisfied: PyWavelets in /opt/anaconda3/lib/python3.8/site-packages (from imagehash; extra == \"type_image_path\"->visions[type_image_path]==0.5.0->pandas_profiling) (1.1.1)\n",
      "Requirement already satisfied: llvmlite<0.34,>=0.33.0.dev0 in /opt/anaconda3/lib/python3.8/site-packages (from numba>=0.38.1->phik>=0.9.10->pandas_profiling) (0.33.0+1.g022ab0f)\n",
      "Requirement already satisfied: setuptools in /opt/anaconda3/lib/python3.8/site-packages (from numba>=0.38.1->phik>=0.9.10->pandas_profiling) (49.2.0.post20200714)\n",
      "Requirement already satisfied: pickleshare in /opt/anaconda3/lib/python3.8/site-packages (from ipython>=4.0.0; python_version >= \"3.3\"->ipywidgets>=7.5.1->pandas_profiling) (0.7.5)\n",
      "Requirement already satisfied: backcall in /opt/anaconda3/lib/python3.8/site-packages (from ipython>=4.0.0; python_version >= \"3.3\"->ipywidgets>=7.5.1->pandas_profiling) (0.2.0)\n",
      "Requirement already satisfied: pexpect; sys_platform != \"win32\" in /opt/anaconda3/lib/python3.8/site-packages (from ipython>=4.0.0; python_version >= \"3.3\"->ipywidgets>=7.5.1->pandas_profiling) (4.8.0)\n",
      "Requirement already satisfied: jedi>=0.10 in /opt/anaconda3/lib/python3.8/site-packages (from ipython>=4.0.0; python_version >= \"3.3\"->ipywidgets>=7.5.1->pandas_profiling) (0.17.1)\n",
      "Requirement already satisfied: wcwidth in /opt/anaconda3/lib/python3.8/site-packages (from prompt-toolkit!=3.0.0,!=3.0.1,<3.1.0,>=2.0.0->jupyter-console->jupyter) (0.2.5)\n",
      "Requirement already satisfied: packaging in /opt/anaconda3/lib/python3.8/site-packages (from bleach->nbconvert->jupyter) (20.4)\n",
      "Requirement already satisfied: webencodings in /opt/anaconda3/lib/python3.8/site-packages (from bleach->nbconvert->jupyter) (0.5.1)\n",
      "Requirement already satisfied: pyrsistent>=0.14.0 in /opt/anaconda3/lib/python3.8/site-packages (from jsonschema!=2.5.0,>=2.4->nbformat->notebook) (0.16.0)\n",
      "Requirement already satisfied: ptyprocess>=0.5 in /opt/anaconda3/lib/python3.8/site-packages (from pexpect; sys_platform != \"win32\"->ipython>=4.0.0; python_version >= \"3.3\"->ipywidgets>=7.5.1->pandas_profiling) (0.6.0)\n",
      "Requirement already satisfied: parso<0.8.0,>=0.7.0 in /opt/anaconda3/lib/python3.8/site-packages (from jedi>=0.10->ipython>=4.0.0; python_version >= \"3.3\"->ipywidgets>=7.5.1->pandas_profiling) (0.7.0)\n"
     ]
    }
   ],
   "source": [
    "!pip install numpy pandas matplotlib seaborn wheel pandas_profiling jupyter notebook -i https://pypi.tuna.tsinghua.edu.cn/simple"
   ]
  },
  {
   "cell_type": "code",
   "execution_count": 2,
   "metadata": {},
   "outputs": [
    {
     "name": "stdout",
     "output_type": "stream",
     "text": [
      "Looking in indexes: https://mirrors.aliyun.com/pypi/simple/\n",
      "Requirement already satisfied: graphviz in /opt/anaconda3/lib/python3.8/site-packages (0.14.1)\n",
      "Requirement already satisfied: pydotplus in /opt/anaconda3/lib/python3.8/site-packages (2.0.2)\n",
      "Requirement already satisfied: pyparsing>=2.0.1 in /opt/anaconda3/lib/python3.8/site-packages (from pydotplus) (2.4.7)\n"
     ]
    }
   ],
   "source": [
    "!pip install graphviz pydotplus "
   ]
  },
  {
   "cell_type": "code",
   "execution_count": 3,
   "metadata": {
    "scrolled": true
   },
   "outputs": [
    {
     "name": "stdout",
     "output_type": "stream",
     "text": [
      "Looking in indexes: https://pypi.tuna.tsinghua.edu.cn/simple\n",
      "Requirement already satisfied: scikit-learn in /opt/anaconda3/lib/python3.8/site-packages (0.23.1)\n",
      "Requirement already satisfied: joblib>=0.11 in /opt/anaconda3/lib/python3.8/site-packages (from scikit-learn) (0.16.0)\n",
      "Requirement already satisfied: threadpoolctl>=2.0.0 in /opt/anaconda3/lib/python3.8/site-packages (from scikit-learn) (2.1.0)\n",
      "Requirement already satisfied: numpy>=1.13.3 in /opt/anaconda3/lib/python3.8/site-packages (from scikit-learn) (1.18.5)\n",
      "Requirement already satisfied: scipy>=0.19.1 in /opt/anaconda3/lib/python3.8/site-packages (from scikit-learn) (1.5.0)\n"
     ]
    }
   ],
   "source": [
    "!pip install scikit-learn -i https://pypi.tuna.tsinghua.edu.cn/simple"
   ]
  },
  {
   "cell_type": "code",
   "execution_count": 4,
   "metadata": {},
   "outputs": [
    {
     "name": "stdout",
     "output_type": "stream",
     "text": [
      "Looking in indexes: https://pypi.tuna.tsinghua.edu.cn/simple\n",
      "Requirement already satisfied: pdpbox in /opt/anaconda3/lib/python3.8/site-packages (0.2.0)\n",
      "Requirement already satisfied: eli5 in /opt/anaconda3/lib/python3.8/site-packages (0.10.1)\n",
      "Requirement already satisfied: joblib in /opt/anaconda3/lib/python3.8/site-packages (from pdpbox) (0.16.0)\n",
      "Requirement already satisfied: numpy in /opt/anaconda3/lib/python3.8/site-packages (from pdpbox) (1.18.5)\n",
      "Requirement already satisfied: scipy in /opt/anaconda3/lib/python3.8/site-packages (from pdpbox) (1.5.0)\n",
      "Requirement already satisfied: matplotlib>=2.1.2 in /opt/anaconda3/lib/python3.8/site-packages (from pdpbox) (3.2.2)\n",
      "Requirement already satisfied: pandas in /opt/anaconda3/lib/python3.8/site-packages (from pdpbox) (1.0.5)\n",
      "Requirement already satisfied: scikit-learn in /opt/anaconda3/lib/python3.8/site-packages (from pdpbox) (0.23.1)\n",
      "Requirement already satisfied: psutil in /opt/anaconda3/lib/python3.8/site-packages (from pdpbox) (5.7.0)\n",
      "Requirement already satisfied: tabulate>=0.7.7 in /opt/anaconda3/lib/python3.8/site-packages (from eli5) (0.8.7)\n",
      "Requirement already satisfied: jinja2 in /opt/anaconda3/lib/python3.8/site-packages (from eli5) (2.11.2)\n",
      "Requirement already satisfied: attrs>16.0.0 in /opt/anaconda3/lib/python3.8/site-packages (from eli5) (19.3.0)\n",
      "Requirement already satisfied: graphviz in /opt/anaconda3/lib/python3.8/site-packages (from eli5) (0.14.1)\n",
      "Requirement already satisfied: six in /opt/anaconda3/lib/python3.8/site-packages (from eli5) (1.15.0)\n",
      "Requirement already satisfied: python-dateutil>=2.1 in /opt/anaconda3/lib/python3.8/site-packages (from matplotlib>=2.1.2->pdpbox) (2.8.1)\n",
      "Requirement already satisfied: kiwisolver>=1.0.1 in /opt/anaconda3/lib/python3.8/site-packages (from matplotlib>=2.1.2->pdpbox) (1.2.0)\n",
      "Requirement already satisfied: cycler>=0.10 in /opt/anaconda3/lib/python3.8/site-packages (from matplotlib>=2.1.2->pdpbox) (0.10.0)\n",
      "Requirement already satisfied: pyparsing!=2.0.4,!=2.1.2,!=2.1.6,>=2.0.1 in /opt/anaconda3/lib/python3.8/site-packages (from matplotlib>=2.1.2->pdpbox) (2.4.7)\n",
      "Requirement already satisfied: pytz>=2017.2 in /opt/anaconda3/lib/python3.8/site-packages (from pandas->pdpbox) (2020.1)\n",
      "Requirement already satisfied: threadpoolctl>=2.0.0 in /opt/anaconda3/lib/python3.8/site-packages (from scikit-learn->pdpbox) (2.1.0)\n",
      "Requirement already satisfied: MarkupSafe>=0.23 in /opt/anaconda3/lib/python3.8/site-packages (from jinja2->eli5) (1.1.1)\n"
     ]
    }
   ],
   "source": [
    "!pip install pdpbox eli5 -i https://pypi.tuna.tsinghua.edu.cn/simple"
   ]
  },
  {
   "cell_type": "code",
   "execution_count": 5,
   "metadata": {},
   "outputs": [
    {
     "name": "stdout",
     "output_type": "stream",
     "text": [
      "Looking in indexes: https://pypi.tuna.tsinghua.edu.cn/simple\n",
      "Requirement already satisfied: shap in /opt/anaconda3/lib/python3.8/site-packages (0.36.0)\n",
      "Requirement already satisfied: slicer in /opt/anaconda3/lib/python3.8/site-packages (from shap) (0.0.4)\n",
      "Requirement already satisfied: scikit-learn in /opt/anaconda3/lib/python3.8/site-packages (from shap) (0.23.1)\n",
      "Requirement already satisfied: numpy in /opt/anaconda3/lib/python3.8/site-packages (from shap) (1.18.5)\n",
      "Requirement already satisfied: scipy in /opt/anaconda3/lib/python3.8/site-packages (from shap) (1.5.0)\n",
      "Requirement already satisfied: pandas in /opt/anaconda3/lib/python3.8/site-packages (from shap) (1.0.5)\n",
      "Requirement already satisfied: tqdm>4.25.0 in /opt/anaconda3/lib/python3.8/site-packages (from shap) (4.47.0)\n",
      "Requirement already satisfied: numba in /opt/anaconda3/lib/python3.8/site-packages (from shap) (0.50.1)\n",
      "Requirement already satisfied: joblib>=0.11 in /opt/anaconda3/lib/python3.8/site-packages (from scikit-learn->shap) (0.16.0)\n",
      "Requirement already satisfied: threadpoolctl>=2.0.0 in /opt/anaconda3/lib/python3.8/site-packages (from scikit-learn->shap) (2.1.0)\n",
      "Requirement already satisfied: python-dateutil>=2.6.1 in /opt/anaconda3/lib/python3.8/site-packages (from pandas->shap) (2.8.1)\n",
      "Requirement already satisfied: pytz>=2017.2 in /opt/anaconda3/lib/python3.8/site-packages (from pandas->shap) (2020.1)\n",
      "Requirement already satisfied: llvmlite<0.34,>=0.33.0.dev0 in /opt/anaconda3/lib/python3.8/site-packages (from numba->shap) (0.33.0+1.g022ab0f)\n",
      "Requirement already satisfied: setuptools in /opt/anaconda3/lib/python3.8/site-packages (from numba->shap) (49.2.0.post20200714)\n",
      "Requirement already satisfied: six>=1.5 in /opt/anaconda3/lib/python3.8/site-packages (from python-dateutil>=2.6.1->pandas->shap) (1.15.0)\n"
     ]
    }
   ],
   "source": [
    "!pip install shap -i https://pypi.tuna.tsinghua.edu.cn/simple"
   ]
  },
  {
   "cell_type": "code",
   "execution_count": 1,
   "metadata": {},
   "outputs": [],
   "source": [
    "import pandas as pd"
   ]
  },
  {
   "cell_type": "code",
   "execution_count": 17,
   "metadata": {},
   "outputs": [],
   "source": [
    "df = pd.read_csv(\"dataset5.csv\")"
   ]
  },
  {
   "cell_type": "code",
   "execution_count": 18,
   "metadata": {},
   "outputs": [
    {
     "data": {
      "text/plain": [
       "(49999, 2)"
      ]
     },
     "execution_count": 18,
     "metadata": {},
     "output_type": "execute_result"
    }
   ],
   "source": [
    "df.shape"
   ]
  },
  {
   "cell_type": "code",
   "execution_count": 19,
   "metadata": {},
   "outputs": [],
   "source": [
    "import pandas as pd\n",
    "\n",
    "import matplotlib.pyplot as plt\n",
    "%matplotlib inline\n",
    "\n",
    "import seaborn as sns"
   ]
  },
  {
   "cell_type": "code",
   "execution_count": 20,
   "metadata": {},
   "outputs": [
    {
     "data": {
      "text/html": [
       "<div>\n",
       "<style scoped>\n",
       "    .dataframe tbody tr th:only-of-type {\n",
       "        vertical-align: middle;\n",
       "    }\n",
       "\n",
       "    .dataframe tbody tr th {\n",
       "        vertical-align: top;\n",
       "    }\n",
       "\n",
       "    .dataframe thead th {\n",
       "        text-align: right;\n",
       "    }\n",
       "</style>\n",
       "<table border=\"1\" class=\"dataframe\">\n",
       "  <thead>\n",
       "    <tr style=\"text-align: right;\">\n",
       "      <th></th>\n",
       "      <th>Visitors with Patient</th>\n",
       "      <th>Stay</th>\n",
       "    </tr>\n",
       "  </thead>\n",
       "  <tbody>\n",
       "    <tr>\n",
       "      <th>Visitors with Patient</th>\n",
       "      <td>1.000000</td>\n",
       "      <td>0.554307</td>\n",
       "    </tr>\n",
       "    <tr>\n",
       "      <th>Stay</th>\n",
       "      <td>0.554307</td>\n",
       "      <td>1.000000</td>\n",
       "    </tr>\n",
       "  </tbody>\n",
       "</table>\n",
       "</div>"
      ],
      "text/plain": [
       "                       Visitors with Patient      Stay\n",
       "Visitors with Patient               1.000000  0.554307\n",
       "Stay                                0.554307  1.000000"
      ]
     },
     "execution_count": 20,
     "metadata": {},
     "output_type": "execute_result"
    }
   ],
   "source": [
    "df.corr()"
   ]
  },
  {
   "cell_type": "code",
   "execution_count": 21,
   "metadata": {
    "scrolled": true
   },
   "outputs": [
    {
     "name": "stdout",
     "output_type": "stream",
     "text": [
      "<class 'pandas.core.frame.DataFrame'>\n",
      "RangeIndex: 49999 entries, 0 to 49998\n",
      "Data columns (total 2 columns):\n",
      " #   Column                 Non-Null Count  Dtype  \n",
      "---  ------                 --------------  -----  \n",
      " 0   Visitors with Patient  49999 non-null  float64\n",
      " 1   Stay                   49999 non-null  float64\n",
      "dtypes: float64(2)\n",
      "memory usage: 781.4 KB\n"
     ]
    }
   ],
   "source": [
    "df.info()"
   ]
  },
  {
   "cell_type": "code",
   "execution_count": 22,
   "metadata": {
    "scrolled": false
   },
   "outputs": [
    {
     "data": {
      "text/plain": [
       "(49999, 2)"
      ]
     },
     "execution_count": 22,
     "metadata": {},
     "output_type": "execute_result"
    }
   ],
   "source": [
    "df.shape"
   ]
  },
  {
   "cell_type": "markdown",
   "metadata": {},
   "source": [
    "# features are chosen according to correlation3"
   ]
  },
  {
   "cell_type": "code",
   "execution_count": 23,
   "metadata": {},
   "outputs": [],
   "source": [
    "#切分训练集和测试集#\n",
    "def randSplit(dataSet, rate=0.9):\n",
    "    n = dataSet.shape[0]\n",
    "    m = int(n*rate)\n",
    "    train = dataSet.iloc[:m,:]\n",
    "    test = dataSet.iloc[m:,:]\n",
    "    test .index = range(test.shape[0]) \n",
    "    return train,test"
   ]
  },
  {
   "cell_type": "code",
   "execution_count": 24,
   "metadata": {},
   "outputs": [],
   "source": [
    "train, test = randSplit(df)"
   ]
  },
  {
   "cell_type": "code",
   "execution_count": 25,
   "metadata": {},
   "outputs": [
    {
     "data": {
      "text/plain": [
       "(44999, 2)"
      ]
     },
     "execution_count": 25,
     "metadata": {},
     "output_type": "execute_result"
    }
   ],
   "source": [
    "train.shape"
   ]
  },
  {
   "cell_type": "code",
   "execution_count": 26,
   "metadata": {},
   "outputs": [
    {
     "data": {
      "text/html": [
       "<div>\n",
       "<style scoped>\n",
       "    .dataframe tbody tr th:only-of-type {\n",
       "        vertical-align: middle;\n",
       "    }\n",
       "\n",
       "    .dataframe tbody tr th {\n",
       "        vertical-align: top;\n",
       "    }\n",
       "\n",
       "    .dataframe thead th {\n",
       "        text-align: right;\n",
       "    }\n",
       "</style>\n",
       "<table border=\"1\" class=\"dataframe\">\n",
       "  <thead>\n",
       "    <tr style=\"text-align: right;\">\n",
       "      <th></th>\n",
       "      <th>Visitors with Patient</th>\n",
       "      <th>Stay</th>\n",
       "    </tr>\n",
       "  </thead>\n",
       "  <tbody>\n",
       "    <tr>\n",
       "      <th>0</th>\n",
       "      <td>0.06250</td>\n",
       "      <td>0.000000</td>\n",
       "    </tr>\n",
       "    <tr>\n",
       "      <th>1</th>\n",
       "      <td>0.06250</td>\n",
       "      <td>0.380952</td>\n",
       "    </tr>\n",
       "    <tr>\n",
       "      <th>2</th>\n",
       "      <td>0.06250</td>\n",
       "      <td>0.285714</td>\n",
       "    </tr>\n",
       "    <tr>\n",
       "      <th>3</th>\n",
       "      <td>0.06250</td>\n",
       "      <td>0.380952</td>\n",
       "    </tr>\n",
       "    <tr>\n",
       "      <th>4</th>\n",
       "      <td>0.06250</td>\n",
       "      <td>0.380952</td>\n",
       "    </tr>\n",
       "    <tr>\n",
       "      <th>...</th>\n",
       "      <td>...</td>\n",
       "      <td>...</td>\n",
       "    </tr>\n",
       "    <tr>\n",
       "      <th>44994</th>\n",
       "      <td>0.06250</td>\n",
       "      <td>0.190476</td>\n",
       "    </tr>\n",
       "    <tr>\n",
       "      <th>44995</th>\n",
       "      <td>0.18750</td>\n",
       "      <td>0.666667</td>\n",
       "    </tr>\n",
       "    <tr>\n",
       "      <th>44996</th>\n",
       "      <td>0.06250</td>\n",
       "      <td>0.190476</td>\n",
       "    </tr>\n",
       "    <tr>\n",
       "      <th>44997</th>\n",
       "      <td>0.09375</td>\n",
       "      <td>0.285714</td>\n",
       "    </tr>\n",
       "    <tr>\n",
       "      <th>44998</th>\n",
       "      <td>0.06250</td>\n",
       "      <td>0.095238</td>\n",
       "    </tr>\n",
       "  </tbody>\n",
       "</table>\n",
       "<p>44999 rows × 2 columns</p>\n",
       "</div>"
      ],
      "text/plain": [
       "       Visitors with Patient      Stay\n",
       "0                    0.06250  0.000000\n",
       "1                    0.06250  0.380952\n",
       "2                    0.06250  0.285714\n",
       "3                    0.06250  0.380952\n",
       "4                    0.06250  0.380952\n",
       "...                      ...       ...\n",
       "44994                0.06250  0.190476\n",
       "44995                0.18750  0.666667\n",
       "44996                0.06250  0.190476\n",
       "44997                0.09375  0.285714\n",
       "44998                0.06250  0.095238\n",
       "\n",
       "[44999 rows x 2 columns]"
      ]
     },
     "execution_count": 26,
     "metadata": {},
     "output_type": "execute_result"
    }
   ],
   "source": [
    "train"
   ]
  },
  {
   "cell_type": "code",
   "execution_count": 27,
   "metadata": {
    "scrolled": true
   },
   "outputs": [
    {
     "data": {
      "text/plain": [
       "(5000, 2)"
      ]
     },
     "execution_count": 27,
     "metadata": {},
     "output_type": "execute_result"
    }
   ],
   "source": [
    "test.shape"
   ]
  },
  {
   "cell_type": "code",
   "execution_count": 28,
   "metadata": {},
   "outputs": [
    {
     "data": {
      "text/html": [
       "<div>\n",
       "<style scoped>\n",
       "    .dataframe tbody tr th:only-of-type {\n",
       "        vertical-align: middle;\n",
       "    }\n",
       "\n",
       "    .dataframe tbody tr th {\n",
       "        vertical-align: top;\n",
       "    }\n",
       "\n",
       "    .dataframe thead th {\n",
       "        text-align: right;\n",
       "    }\n",
       "</style>\n",
       "<table border=\"1\" class=\"dataframe\">\n",
       "  <thead>\n",
       "    <tr style=\"text-align: right;\">\n",
       "      <th></th>\n",
       "      <th>Visitors with Patient</th>\n",
       "      <th>Stay</th>\n",
       "    </tr>\n",
       "  </thead>\n",
       "  <tbody>\n",
       "    <tr>\n",
       "      <th>0</th>\n",
       "      <td>0.12500</td>\n",
       "      <td>0.285714</td>\n",
       "    </tr>\n",
       "    <tr>\n",
       "      <th>1</th>\n",
       "      <td>0.09375</td>\n",
       "      <td>0.285714</td>\n",
       "    </tr>\n",
       "    <tr>\n",
       "      <th>2</th>\n",
       "      <td>0.06250</td>\n",
       "      <td>0.380952</td>\n",
       "    </tr>\n",
       "    <tr>\n",
       "      <th>3</th>\n",
       "      <td>0.09375</td>\n",
       "      <td>0.285714</td>\n",
       "    </tr>\n",
       "    <tr>\n",
       "      <th>4</th>\n",
       "      <td>0.06250</td>\n",
       "      <td>0.190476</td>\n",
       "    </tr>\n",
       "    <tr>\n",
       "      <th>...</th>\n",
       "      <td>...</td>\n",
       "      <td>...</td>\n",
       "    </tr>\n",
       "    <tr>\n",
       "      <th>4995</th>\n",
       "      <td>0.18750</td>\n",
       "      <td>0.285714</td>\n",
       "    </tr>\n",
       "    <tr>\n",
       "      <th>4996</th>\n",
       "      <td>0.18750</td>\n",
       "      <td>0.285714</td>\n",
       "    </tr>\n",
       "    <tr>\n",
       "      <th>4997</th>\n",
       "      <td>0.12500</td>\n",
       "      <td>0.095238</td>\n",
       "    </tr>\n",
       "    <tr>\n",
       "      <th>4998</th>\n",
       "      <td>0.12500</td>\n",
       "      <td>0.285714</td>\n",
       "    </tr>\n",
       "    <tr>\n",
       "      <th>4999</th>\n",
       "      <td>0.06250</td>\n",
       "      <td>0.095238</td>\n",
       "    </tr>\n",
       "  </tbody>\n",
       "</table>\n",
       "<p>5000 rows × 2 columns</p>\n",
       "</div>"
      ],
      "text/plain": [
       "      Visitors with Patient      Stay\n",
       "0                   0.12500  0.285714\n",
       "1                   0.09375  0.285714\n",
       "2                   0.06250  0.380952\n",
       "3                   0.09375  0.285714\n",
       "4                   0.06250  0.190476\n",
       "...                     ...       ...\n",
       "4995                0.18750  0.285714\n",
       "4996                0.18750  0.285714\n",
       "4997                0.12500  0.095238\n",
       "4998                0.12500  0.285714\n",
       "4999                0.06250  0.095238\n",
       "\n",
       "[5000 rows x 2 columns]"
      ]
     },
     "execution_count": 28,
     "metadata": {},
     "output_type": "execute_result"
    }
   ],
   "source": [
    "test"
   ]
  },
  {
   "cell_type": "code",
   "execution_count": 29,
   "metadata": {},
   "outputs": [],
   "source": [
    "import numpy as np\n",
    "def stayClass(train, test, k):\n",
    "    train=pd.DataFrame(train,dtype=np.float)\n",
    "    test=pd.DataFrame(test,dtype=np.float)\n",
    "    n = train. shape[1]-1   \n",
    "    m = test. shape[0]     \n",
    "    result = []                \n",
    "    for i in range(m):\n",
    "        dist = list((((train.iloc[:, :n] - test.iloc[i, :n]) **2).sum(1))**.5)    \n",
    "        dist_1 = pd.DataFrame({'dist':dist, 'labels':(train.iloc[:, n])})   \n",
    "        dr = dist_1.sort_values(by = 'dist')[: k] \n",
    "        re = dr.loc[:, 'labels'].value_counts()  \n",
    "        result.append(re.index[0])    \n",
    "    result = pd.Series(result)\n",
    "    res = test.copy()\n",
    "    res.loc[:, 'predict'] = result \n",
    "    acc = (res.iloc[:,-1]==res.iloc[:,-2]).mean()   \n",
    "    print('accuracy{}'.format(acc))\n",
    "    return acc, res"
   ]
  },
  {
   "cell_type": "code",
   "execution_count": 34,
   "metadata": {
    "scrolled": false
   },
   "outputs": [
    {
     "name": "stdout",
     "output_type": "stream",
     "text": [
      "accuracy0.314\n"
     ]
    },
    {
     "data": {
      "text/html": [
       "<div>\n",
       "<style scoped>\n",
       "    .dataframe tbody tr th:only-of-type {\n",
       "        vertical-align: middle;\n",
       "    }\n",
       "\n",
       "    .dataframe tbody tr th {\n",
       "        vertical-align: top;\n",
       "    }\n",
       "\n",
       "    .dataframe thead th {\n",
       "        text-align: right;\n",
       "    }\n",
       "</style>\n",
       "<table border=\"1\" class=\"dataframe\">\n",
       "  <thead>\n",
       "    <tr style=\"text-align: right;\">\n",
       "      <th></th>\n",
       "      <th>Hospital_region_Z</th>\n",
       "      <th>Hospital_region_X</th>\n",
       "      <th>Hospital_region_Y</th>\n",
       "      <th>Available Extra Rooms in Hospital</th>\n",
       "      <th>Department_anesthesia</th>\n",
       "      <th>Department_radiotherapy</th>\n",
       "      <th>Department_TB &amp; Chest disease</th>\n",
       "      <th>Department_gynecology</th>\n",
       "      <th>Department_1</th>\n",
       "      <th>Ward_Type_S</th>\n",
       "      <th>...</th>\n",
       "      <th>patientid</th>\n",
       "      <th>Admission_emergency</th>\n",
       "      <th>Admission_urgent</th>\n",
       "      <th>Admission_trauma</th>\n",
       "      <th>Severity of Illness</th>\n",
       "      <th>Visitors with Patient</th>\n",
       "      <th>Age</th>\n",
       "      <th>Admission_Deposit</th>\n",
       "      <th>Stay</th>\n",
       "      <th>predict</th>\n",
       "    </tr>\n",
       "  </thead>\n",
       "  <tbody>\n",
       "    <tr>\n",
       "      <th>0</th>\n",
       "      <td>0.0</td>\n",
       "      <td>1.0</td>\n",
       "      <td>0.0</td>\n",
       "      <td>0.125000</td>\n",
       "      <td>0.0</td>\n",
       "      <td>0.0</td>\n",
       "      <td>0.0</td>\n",
       "      <td>1.0</td>\n",
       "      <td>0.0</td>\n",
       "      <td>0.0</td>\n",
       "      <td>...</td>\n",
       "      <td>0.036886</td>\n",
       "      <td>0.0</td>\n",
       "      <td>0.0</td>\n",
       "      <td>1.0</td>\n",
       "      <td>0.333333</td>\n",
       "      <td>0.12500</td>\n",
       "      <td>0.47619</td>\n",
       "      <td>0.316601</td>\n",
       "      <td>35.0</td>\n",
       "      <td>25.0</td>\n",
       "    </tr>\n",
       "    <tr>\n",
       "      <th>1</th>\n",
       "      <td>0.0</td>\n",
       "      <td>0.0</td>\n",
       "      <td>1.0</td>\n",
       "      <td>0.125000</td>\n",
       "      <td>0.0</td>\n",
       "      <td>0.0</td>\n",
       "      <td>0.0</td>\n",
       "      <td>1.0</td>\n",
       "      <td>0.0</td>\n",
       "      <td>0.0</td>\n",
       "      <td>...</td>\n",
       "      <td>0.036886</td>\n",
       "      <td>1.0</td>\n",
       "      <td>0.0</td>\n",
       "      <td>0.0</td>\n",
       "      <td>0.333333</td>\n",
       "      <td>0.09375</td>\n",
       "      <td>0.47619</td>\n",
       "      <td>0.534190</td>\n",
       "      <td>35.0</td>\n",
       "      <td>25.0</td>\n",
       "    </tr>\n",
       "    <tr>\n",
       "      <th>2</th>\n",
       "      <td>1.0</td>\n",
       "      <td>0.0</td>\n",
       "      <td>0.0</td>\n",
       "      <td>0.083333</td>\n",
       "      <td>1.0</td>\n",
       "      <td>0.0</td>\n",
       "      <td>0.0</td>\n",
       "      <td>0.0</td>\n",
       "      <td>0.0</td>\n",
       "      <td>0.0</td>\n",
       "      <td>...</td>\n",
       "      <td>0.036886</td>\n",
       "      <td>0.0</td>\n",
       "      <td>0.0</td>\n",
       "      <td>1.0</td>\n",
       "      <td>0.333333</td>\n",
       "      <td>0.06250</td>\n",
       "      <td>0.47619</td>\n",
       "      <td>0.312945</td>\n",
       "      <td>45.0</td>\n",
       "      <td>15.0</td>\n",
       "    </tr>\n",
       "    <tr>\n",
       "      <th>3</th>\n",
       "      <td>0.0</td>\n",
       "      <td>0.0</td>\n",
       "      <td>1.0</td>\n",
       "      <td>0.166667</td>\n",
       "      <td>0.0</td>\n",
       "      <td>0.0</td>\n",
       "      <td>0.0</td>\n",
       "      <td>1.0</td>\n",
       "      <td>0.0</td>\n",
       "      <td>0.0</td>\n",
       "      <td>...</td>\n",
       "      <td>0.036886</td>\n",
       "      <td>1.0</td>\n",
       "      <td>0.0</td>\n",
       "      <td>0.0</td>\n",
       "      <td>0.333333</td>\n",
       "      <td>0.09375</td>\n",
       "      <td>0.47619</td>\n",
       "      <td>0.354447</td>\n",
       "      <td>35.0</td>\n",
       "      <td>15.0</td>\n",
       "    </tr>\n",
       "    <tr>\n",
       "      <th>4</th>\n",
       "      <td>1.0</td>\n",
       "      <td>0.0</td>\n",
       "      <td>0.0</td>\n",
       "      <td>0.083333</td>\n",
       "      <td>0.0</td>\n",
       "      <td>0.0</td>\n",
       "      <td>0.0</td>\n",
       "      <td>1.0</td>\n",
       "      <td>0.0</td>\n",
       "      <td>0.0</td>\n",
       "      <td>...</td>\n",
       "      <td>0.448364</td>\n",
       "      <td>0.0</td>\n",
       "      <td>0.0</td>\n",
       "      <td>1.0</td>\n",
       "      <td>0.333333</td>\n",
       "      <td>0.06250</td>\n",
       "      <td>0.47619</td>\n",
       "      <td>0.462451</td>\n",
       "      <td>25.0</td>\n",
       "      <td>25.0</td>\n",
       "    </tr>\n",
       "  </tbody>\n",
       "</table>\n",
       "<p>5 rows × 25 columns</p>\n",
       "</div>"
      ],
      "text/plain": [
       "   Hospital_region_Z  Hospital_region_X  Hospital_region_Y  \\\n",
       "0                0.0                1.0                0.0   \n",
       "1                0.0                0.0                1.0   \n",
       "2                1.0                0.0                0.0   \n",
       "3                0.0                0.0                1.0   \n",
       "4                1.0                0.0                0.0   \n",
       "\n",
       "   Available Extra Rooms in Hospital  Department_anesthesia  \\\n",
       "0                           0.125000                    0.0   \n",
       "1                           0.125000                    0.0   \n",
       "2                           0.083333                    1.0   \n",
       "3                           0.166667                    0.0   \n",
       "4                           0.083333                    0.0   \n",
       "\n",
       "   Department_radiotherapy  Department_TB & Chest disease  \\\n",
       "0                      0.0                            0.0   \n",
       "1                      0.0                            0.0   \n",
       "2                      0.0                            0.0   \n",
       "3                      0.0                            0.0   \n",
       "4                      0.0                            0.0   \n",
       "\n",
       "   Department_gynecology  Department_1  Ward_Type_S  ...  patientid  \\\n",
       "0                    1.0           0.0          0.0  ...   0.036886   \n",
       "1                    1.0           0.0          0.0  ...   0.036886   \n",
       "2                    0.0           0.0          0.0  ...   0.036886   \n",
       "3                    1.0           0.0          0.0  ...   0.036886   \n",
       "4                    1.0           0.0          0.0  ...   0.448364   \n",
       "\n",
       "   Admission_emergency  Admission_urgent  Admission_trauma  \\\n",
       "0                  0.0               0.0               1.0   \n",
       "1                  1.0               0.0               0.0   \n",
       "2                  0.0               0.0               1.0   \n",
       "3                  1.0               0.0               0.0   \n",
       "4                  0.0               0.0               1.0   \n",
       "\n",
       "   Severity of Illness  Visitors with Patient      Age  Admission_Deposit  \\\n",
       "0             0.333333                0.12500  0.47619           0.316601   \n",
       "1             0.333333                0.09375  0.47619           0.534190   \n",
       "2             0.333333                0.06250  0.47619           0.312945   \n",
       "3             0.333333                0.09375  0.47619           0.354447   \n",
       "4             0.333333                0.06250  0.47619           0.462451   \n",
       "\n",
       "   Stay  predict  \n",
       "0  35.0     25.0  \n",
       "1  35.0     25.0  \n",
       "2  45.0     15.0  \n",
       "3  35.0     15.0  \n",
       "4  25.0     25.0  \n",
       "\n",
       "[5 rows x 25 columns]"
      ]
     },
     "execution_count": 34,
     "metadata": {},
     "output_type": "execute_result"
    }
   ],
   "source": [
    "acc, df_stay = stayClass(train, test, 50)\n",
    "df_stay.head()"
   ]
  },
  {
   "cell_type": "code",
   "execution_count": 16,
   "metadata": {},
   "outputs": [
    {
     "name": "stdout",
     "output_type": "stream",
     "text": [
      "accuracy0.2636\n",
      "accuracy0.2706\n",
      "accuracy0.2808\n",
      "accuracy0.2844\n",
      "accuracy0.3024\n",
      "accuracy0.3086\n",
      "accuracy0.307\n",
      "accuracy0.3182\n",
      "accuracy0.3186\n",
      "accuracy0.3186\n",
      "accuracy0.3224\n",
      "accuracy0.3236\n",
      "accuracy0.3272\n",
      "accuracy0.331\n",
      "accuracy0.3278\n",
      "accuracy0.3294\n",
      "accuracy0.3306\n",
      "accuracy0.3372\n",
      "accuracy0.335\n",
      "accuracy0.3328\n",
      "accuracy0.333\n",
      "accuracy0.337\n",
      "accuracy0.3346\n",
      "accuracy0.3428\n",
      "accuracy0.3396\n",
      "accuracy0.3442\n",
      "accuracy0.3376\n",
      "accuracy0.3432\n",
      "accuracy0.3412\n",
      "26\n",
      "0.3442\n"
     ]
    },
    {
     "data": {
      "image/png": "[encoded data removed]",
      "text/plain": [
       "<Figure size 432x288 with 1 Axes>"
      ]
     },
     "metadata": {
      "needs_background": "light"
     },
     "output_type": "display_data"
    }
   ],
   "source": [
    "import matplotlib.pyplot as plt\n",
    "score = []\n",
    "krange = range(1,30)\n",
    "\n",
    "for i in krange:\n",
    "    acc,re = stayClass(train,test,i)\n",
    "    score.append(acc)\n",
    "plt.plot(krange,score);\n",
    "bestK = krange[score.index(max(score))]\n",
    "print(bestK)\n",
    "print(max(score))"
   ]
  },
  {
   "cell_type": "code",
   "execution_count": 30,
   "metadata": {},
   "outputs": [
    {
     "name": "stdout",
     "output_type": "stream",
     "text": [
      "accuracy0.1348\n",
      "accuracy0.2418\n",
      "accuracy0.2678\n",
      "accuracy0.2396\n",
      "accuracy0.2466\n",
      "accuracy0.2462\n",
      "accuracy0.2748\n",
      "accuracy0.2756\n",
      "accuracy0.3016\n",
      "accuracy0.3106\n",
      "accuracy0.2846\n",
      "accuracy0.2848\n",
      "accuracy0.3108\n",
      "accuracy0.2848\n",
      "accuracy0.2858\n",
      "accuracy0.3166\n",
      "accuracy0.2886\n",
      "accuracy0.29\n",
      "accuracy0.316\n",
      "accuracy0.3162\n",
      "accuracy0.2906\n",
      "accuracy0.2852\n",
      "accuracy0.2852\n",
      "accuracy0.278\n",
      "accuracy0.278\n",
      "accuracy0.278\n",
      "accuracy0.278\n",
      "accuracy0.2846\n",
      "accuracy0.2846\n",
      "16\n",
      "0.3166\n"
     ]
    },
    {
     "data": {
      "image/png": "[encoded data removed]",
      "text/plain": [
       "<Figure size 432x288 with 1 Axes>"
      ]
     },
     "metadata": {
      "needs_background": "light"
     },
     "output_type": "display_data"
    }
   ],
   "source": [
    "import matplotlib.pyplot as plt\n",
    "score = []\n",
    "krange = range(1,30)\n",
    "\n",
    "for i in krange:\n",
    "    acc,re = stayClass(train,test,i)\n",
    "    score.append(acc)\n",
    "plt.plot(krange,score);\n",
    "bestK = krange[score.index(max(score))]\n",
    "print(bestK)\n",
    "print(max(score))"
   ]
  },
  {
   "cell_type": "code",
   "execution_count": null,
   "metadata": {},
   "outputs": [],
   "source": []
  }
 ],
 "metadata": {
  "kernelspec": {
   "display_name": "Python 3",
   "language": "python",
   "name": "python3"
  },
  "language_info": {
   "codemirror_mode": {
    "name": "ipython",
    "version": 3
   },
   "file_extension": ".py",
   "mimetype": "text/x-python",
   "name": "python",
   "nbconvert_exporter": "python",
   "pygments_lexer": "ipython3",
   "version": "3.8.3"
  }
 },
 "nbformat": 4,
 "nbformat_minor": 4
}
